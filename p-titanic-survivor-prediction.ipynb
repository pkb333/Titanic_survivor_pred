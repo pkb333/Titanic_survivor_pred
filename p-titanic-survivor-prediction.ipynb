{
 "cells": [
  {
   "cell_type": "code",
   "execution_count": 1,
   "id": "f91a6f19",
   "metadata": {
    "_cell_guid": "b1076dfc-b9ad-4769-8c92-a6c4dae69d19",
    "_uuid": "8f2839f25d086af736a60e9eeb907d3b93b6e0e5",
    "execution": {
     "iopub.execute_input": "2022-10-07T18:11:21.063125Z",
     "iopub.status.busy": "2022-10-07T18:11:21.062586Z",
     "iopub.status.idle": "2022-10-07T18:11:21.078366Z",
     "shell.execute_reply": "2022-10-07T18:11:21.076694Z"
    },
    "papermill": {
     "duration": 0.03611,
     "end_time": "2022-10-07T18:11:21.081545",
     "exception": false,
     "start_time": "2022-10-07T18:11:21.045435",
     "status": "completed"
    },
    "tags": []
   },
   "outputs": [
    {
     "name": "stdout",
     "output_type": "stream",
     "text": [
      "/kaggle/input/titanic/train.csv\n",
      "/kaggle/input/titanic/test.csv\n",
      "/kaggle/input/titanic/gender_submission.csv\n"
     ]
    }
   ],
   "source": [
    "# This Python 3 environment comes with many helpful analytics libraries installed\n",
    "# It is defined by the kaggle/python Docker image: https://github.com/kaggle/docker-python\n",
    "# For example, here's several helpful packages to load\n",
    "\n",
    "import numpy as np # linear algebra\n",
    "import pandas as pd # data processing, CSV file I/O (e.g. pd.read_csv)\n",
    "\n",
    "# Input data files are available in the read-only \"../input/\" directory\n",
    "# For example, running this (by clicking run or pressing Shift+Enter) will list all files under the input directory\n",
    "\n",
    "import os\n",
    "for dirname, _, filenames in os.walk('/kaggle/input'):\n",
    "    for filename in filenames:\n",
    "        print(os.path.join(dirname, filename))\n",
    "\n",
    "# You can write up to 20GB to the current directory (/kaggle/working/) that gets preserved as output when you create a version using \"Save & Run All\" \n",
    "# You can also write temporary files to /kaggle/temp/, but they won't be saved outside of the current session"
   ]
  },
  {
   "cell_type": "code",
   "execution_count": 2,
   "id": "ec4bc470",
   "metadata": {
    "execution": {
     "iopub.execute_input": "2022-10-07T18:11:21.114064Z",
     "iopub.status.busy": "2022-10-07T18:11:21.113647Z",
     "iopub.status.idle": "2022-10-07T18:11:21.118630Z",
     "shell.execute_reply": "2022-10-07T18:11:21.117443Z"
    },
    "papermill": {
     "duration": 0.024615,
     "end_time": "2022-10-07T18:11:21.120763",
     "exception": false,
     "start_time": "2022-10-07T18:11:21.096148",
     "status": "completed"
    },
    "tags": []
   },
   "outputs": [],
   "source": [
    "#importing relevent libraries\n",
    "import numpy as np\n",
    "import pandas as pd\n",
    "import matplotlib.pyplot as plt\n"
   ]
  },
  {
   "cell_type": "code",
   "execution_count": 3,
   "id": "8c5338ed",
   "metadata": {
    "execution": {
     "iopub.execute_input": "2022-10-07T18:11:21.150802Z",
     "iopub.status.busy": "2022-10-07T18:11:21.150335Z",
     "iopub.status.idle": "2022-10-07T18:11:21.217468Z",
     "shell.execute_reply": "2022-10-07T18:11:21.215934Z"
    },
    "papermill": {
     "duration": 0.085454,
     "end_time": "2022-10-07T18:11:21.220199",
     "exception": false,
     "start_time": "2022-10-07T18:11:21.134745",
     "status": "completed"
    },
    "tags": []
   },
   "outputs": [
    {
     "data": {
      "text/html": [
       "<div>\n",
       "<style scoped>\n",
       "    .dataframe tbody tr th:only-of-type {\n",
       "        vertical-align: middle;\n",
       "    }\n",
       "\n",
       "    .dataframe tbody tr th {\n",
       "        vertical-align: top;\n",
       "    }\n",
       "\n",
       "    .dataframe thead th {\n",
       "        text-align: right;\n",
       "    }\n",
       "</style>\n",
       "<table border=\"1\" class=\"dataframe\">\n",
       "  <thead>\n",
       "    <tr style=\"text-align: right;\">\n",
       "      <th></th>\n",
       "      <th>PassengerId</th>\n",
       "      <th>Pclass</th>\n",
       "      <th>Name</th>\n",
       "      <th>Sex</th>\n",
       "      <th>Age</th>\n",
       "      <th>SibSp</th>\n",
       "      <th>Parch</th>\n",
       "      <th>Ticket</th>\n",
       "      <th>Fare</th>\n",
       "      <th>Cabin</th>\n",
       "      <th>Embarked</th>\n",
       "    </tr>\n",
       "  </thead>\n",
       "  <tbody>\n",
       "    <tr>\n",
       "      <th>0</th>\n",
       "      <td>892</td>\n",
       "      <td>3</td>\n",
       "      <td>Kelly, Mr. James</td>\n",
       "      <td>male</td>\n",
       "      <td>34.5</td>\n",
       "      <td>0</td>\n",
       "      <td>0</td>\n",
       "      <td>330911</td>\n",
       "      <td>7.8292</td>\n",
       "      <td>NaN</td>\n",
       "      <td>Q</td>\n",
       "    </tr>\n",
       "    <tr>\n",
       "      <th>1</th>\n",
       "      <td>893</td>\n",
       "      <td>3</td>\n",
       "      <td>Wilkes, Mrs. James (Ellen Needs)</td>\n",
       "      <td>female</td>\n",
       "      <td>47.0</td>\n",
       "      <td>1</td>\n",
       "      <td>0</td>\n",
       "      <td>363272</td>\n",
       "      <td>7.0000</td>\n",
       "      <td>NaN</td>\n",
       "      <td>S</td>\n",
       "    </tr>\n",
       "    <tr>\n",
       "      <th>2</th>\n",
       "      <td>894</td>\n",
       "      <td>2</td>\n",
       "      <td>Myles, Mr. Thomas Francis</td>\n",
       "      <td>male</td>\n",
       "      <td>62.0</td>\n",
       "      <td>0</td>\n",
       "      <td>0</td>\n",
       "      <td>240276</td>\n",
       "      <td>9.6875</td>\n",
       "      <td>NaN</td>\n",
       "      <td>Q</td>\n",
       "    </tr>\n",
       "    <tr>\n",
       "      <th>3</th>\n",
       "      <td>895</td>\n",
       "      <td>3</td>\n",
       "      <td>Wirz, Mr. Albert</td>\n",
       "      <td>male</td>\n",
       "      <td>27.0</td>\n",
       "      <td>0</td>\n",
       "      <td>0</td>\n",
       "      <td>315154</td>\n",
       "      <td>8.6625</td>\n",
       "      <td>NaN</td>\n",
       "      <td>S</td>\n",
       "    </tr>\n",
       "    <tr>\n",
       "      <th>4</th>\n",
       "      <td>896</td>\n",
       "      <td>3</td>\n",
       "      <td>Hirvonen, Mrs. Alexander (Helga E Lindqvist)</td>\n",
       "      <td>female</td>\n",
       "      <td>22.0</td>\n",
       "      <td>1</td>\n",
       "      <td>1</td>\n",
       "      <td>3101298</td>\n",
       "      <td>12.2875</td>\n",
       "      <td>NaN</td>\n",
       "      <td>S</td>\n",
       "    </tr>\n",
       "  </tbody>\n",
       "</table>\n",
       "</div>"
      ],
      "text/plain": [
       "   PassengerId  Pclass                                          Name     Sex  \\\n",
       "0          892       3                              Kelly, Mr. James    male   \n",
       "1          893       3              Wilkes, Mrs. James (Ellen Needs)  female   \n",
       "2          894       2                     Myles, Mr. Thomas Francis    male   \n",
       "3          895       3                              Wirz, Mr. Albert    male   \n",
       "4          896       3  Hirvonen, Mrs. Alexander (Helga E Lindqvist)  female   \n",
       "\n",
       "    Age  SibSp  Parch   Ticket     Fare Cabin Embarked  \n",
       "0  34.5      0      0   330911   7.8292   NaN        Q  \n",
       "1  47.0      1      0   363272   7.0000   NaN        S  \n",
       "2  62.0      0      0   240276   9.6875   NaN        Q  \n",
       "3  27.0      0      0   315154   8.6625   NaN        S  \n",
       "4  22.0      1      1  3101298  12.2875   NaN        S  "
      ]
     },
     "execution_count": 3,
     "metadata": {},
     "output_type": "execute_result"
    }
   ],
   "source": [
    "# this is a classification problem where we need to classify whether the person is survived in the titanic accident or not.\n",
    "df_train = pd.read_csv('/kaggle/input/titanic/train.csv')\n",
    "df_test = pd.read_csv('/kaggle/input/titanic/test.csv')\n",
    "df_train.head()\n",
    "df_test.head()"
   ]
  },
  {
   "cell_type": "code",
   "execution_count": 4,
   "id": "e4f2a49e",
   "metadata": {
    "execution": {
     "iopub.execute_input": "2022-10-07T18:11:21.251847Z",
     "iopub.status.busy": "2022-10-07T18:11:21.251386Z",
     "iopub.status.idle": "2022-10-07T18:11:21.271693Z",
     "shell.execute_reply": "2022-10-07T18:11:21.269435Z"
    },
    "papermill": {
     "duration": 0.039671,
     "end_time": "2022-10-07T18:11:21.274418",
     "exception": false,
     "start_time": "2022-10-07T18:11:21.234747",
     "status": "completed"
    },
    "tags": []
   },
   "outputs": [
    {
     "data": {
      "text/html": [
       "<div>\n",
       "<style scoped>\n",
       "    .dataframe tbody tr th:only-of-type {\n",
       "        vertical-align: middle;\n",
       "    }\n",
       "\n",
       "    .dataframe tbody tr th {\n",
       "        vertical-align: top;\n",
       "    }\n",
       "\n",
       "    .dataframe thead th {\n",
       "        text-align: right;\n",
       "    }\n",
       "</style>\n",
       "<table border=\"1\" class=\"dataframe\">\n",
       "  <thead>\n",
       "    <tr style=\"text-align: right;\">\n",
       "      <th></th>\n",
       "      <th>PassengerId</th>\n",
       "      <th>Survived</th>\n",
       "      <th>Pclass</th>\n",
       "      <th>Name</th>\n",
       "      <th>Sex</th>\n",
       "      <th>Age</th>\n",
       "      <th>SibSp</th>\n",
       "      <th>Parch</th>\n",
       "      <th>Ticket</th>\n",
       "      <th>Fare</th>\n",
       "      <th>Cabin</th>\n",
       "      <th>Embarked</th>\n",
       "    </tr>\n",
       "  </thead>\n",
       "  <tbody>\n",
       "    <tr>\n",
       "      <th>0</th>\n",
       "      <td>1</td>\n",
       "      <td>0</td>\n",
       "      <td>3</td>\n",
       "      <td>Braund, Mr. Owen Harris</td>\n",
       "      <td>male</td>\n",
       "      <td>22.0</td>\n",
       "      <td>1</td>\n",
       "      <td>0</td>\n",
       "      <td>A/5 21171</td>\n",
       "      <td>7.2500</td>\n",
       "      <td>NaN</td>\n",
       "      <td>S</td>\n",
       "    </tr>\n",
       "    <tr>\n",
       "      <th>1</th>\n",
       "      <td>2</td>\n",
       "      <td>1</td>\n",
       "      <td>1</td>\n",
       "      <td>Cumings, Mrs. John Bradley (Florence Briggs Th...</td>\n",
       "      <td>female</td>\n",
       "      <td>38.0</td>\n",
       "      <td>1</td>\n",
       "      <td>0</td>\n",
       "      <td>PC 17599</td>\n",
       "      <td>71.2833</td>\n",
       "      <td>C85</td>\n",
       "      <td>C</td>\n",
       "    </tr>\n",
       "    <tr>\n",
       "      <th>2</th>\n",
       "      <td>3</td>\n",
       "      <td>1</td>\n",
       "      <td>3</td>\n",
       "      <td>Heikkinen, Miss. Laina</td>\n",
       "      <td>female</td>\n",
       "      <td>26.0</td>\n",
       "      <td>0</td>\n",
       "      <td>0</td>\n",
       "      <td>STON/O2. 3101282</td>\n",
       "      <td>7.9250</td>\n",
       "      <td>NaN</td>\n",
       "      <td>S</td>\n",
       "    </tr>\n",
       "    <tr>\n",
       "      <th>3</th>\n",
       "      <td>4</td>\n",
       "      <td>1</td>\n",
       "      <td>1</td>\n",
       "      <td>Futrelle, Mrs. Jacques Heath (Lily May Peel)</td>\n",
       "      <td>female</td>\n",
       "      <td>35.0</td>\n",
       "      <td>1</td>\n",
       "      <td>0</td>\n",
       "      <td>113803</td>\n",
       "      <td>53.1000</td>\n",
       "      <td>C123</td>\n",
       "      <td>S</td>\n",
       "    </tr>\n",
       "    <tr>\n",
       "      <th>4</th>\n",
       "      <td>5</td>\n",
       "      <td>0</td>\n",
       "      <td>3</td>\n",
       "      <td>Allen, Mr. William Henry</td>\n",
       "      <td>male</td>\n",
       "      <td>35.0</td>\n",
       "      <td>0</td>\n",
       "      <td>0</td>\n",
       "      <td>373450</td>\n",
       "      <td>8.0500</td>\n",
       "      <td>NaN</td>\n",
       "      <td>S</td>\n",
       "    </tr>\n",
       "  </tbody>\n",
       "</table>\n",
       "</div>"
      ],
      "text/plain": [
       "   PassengerId  Survived  Pclass  \\\n",
       "0            1         0       3   \n",
       "1            2         1       1   \n",
       "2            3         1       3   \n",
       "3            4         1       1   \n",
       "4            5         0       3   \n",
       "\n",
       "                                                Name     Sex   Age  SibSp  \\\n",
       "0                            Braund, Mr. Owen Harris    male  22.0      1   \n",
       "1  Cumings, Mrs. John Bradley (Florence Briggs Th...  female  38.0      1   \n",
       "2                             Heikkinen, Miss. Laina  female  26.0      0   \n",
       "3       Futrelle, Mrs. Jacques Heath (Lily May Peel)  female  35.0      1   \n",
       "4                           Allen, Mr. William Henry    male  35.0      0   \n",
       "\n",
       "   Parch            Ticket     Fare Cabin Embarked  \n",
       "0      0         A/5 21171   7.2500   NaN        S  \n",
       "1      0          PC 17599  71.2833   C85        C  \n",
       "2      0  STON/O2. 3101282   7.9250   NaN        S  \n",
       "3      0            113803  53.1000  C123        S  \n",
       "4      0            373450   8.0500   NaN        S  "
      ]
     },
     "execution_count": 4,
     "metadata": {},
     "output_type": "execute_result"
    }
   ],
   "source": [
    "df_train.head()\n",
    "#By looking at the data we can see PassengerId and Name doesn't add much value to the model or my model will not learn much from these features"
   ]
  },
  {
   "cell_type": "markdown",
   "id": "c49187e6",
   "metadata": {
    "papermill": {
     "duration": 0.014163,
     "end_time": "2022-10-07T18:11:21.304501",
     "exception": false,
     "start_time": "2022-10-07T18:11:21.290338",
     "status": "completed"
    },
    "tags": []
   },
   "source": [
    "# EDA"
   ]
  },
  {
   "cell_type": "code",
   "execution_count": 5,
   "id": "8c82e8fb",
   "metadata": {
    "execution": {
     "iopub.execute_input": "2022-10-07T18:11:21.336466Z",
     "iopub.status.busy": "2022-10-07T18:11:21.335872Z",
     "iopub.status.idle": "2022-10-07T18:11:21.347394Z",
     "shell.execute_reply": "2022-10-07T18:11:21.345939Z"
    },
    "papermill": {
     "duration": 0.030958,
     "end_time": "2022-10-07T18:11:21.350044",
     "exception": false,
     "start_time": "2022-10-07T18:11:21.319086",
     "status": "completed"
    },
    "tags": []
   },
   "outputs": [
    {
     "data": {
      "text/plain": [
       "PassengerId      0\n",
       "Survived         0\n",
       "Pclass           0\n",
       "Name             0\n",
       "Sex              0\n",
       "Age            177\n",
       "SibSp            0\n",
       "Parch            0\n",
       "Ticket           0\n",
       "Fare             0\n",
       "Cabin          687\n",
       "Embarked         2\n",
       "dtype: int64"
      ]
     },
     "execution_count": 5,
     "metadata": {},
     "output_type": "execute_result"
    }
   ],
   "source": [
    "df_train.isnull().sum()\n",
    "#there are missing values in the dataset so we cannot move further before solving these missing values"
   ]
  },
  {
   "cell_type": "code",
   "execution_count": 6,
   "id": "9e7e0bbf",
   "metadata": {
    "execution": {
     "iopub.execute_input": "2022-10-07T18:11:21.381623Z",
     "iopub.status.busy": "2022-10-07T18:11:21.381213Z",
     "iopub.status.idle": "2022-10-07T18:11:21.410518Z",
     "shell.execute_reply": "2022-10-07T18:11:21.408922Z"
    },
    "papermill": {
     "duration": 0.048482,
     "end_time": "2022-10-07T18:11:21.413303",
     "exception": false,
     "start_time": "2022-10-07T18:11:21.364821",
     "status": "completed"
    },
    "tags": []
   },
   "outputs": [
    {
     "name": "stdout",
     "output_type": "stream",
     "text": [
      "<class 'pandas.core.frame.DataFrame'>\n",
      "RangeIndex: 891 entries, 0 to 890\n",
      "Data columns (total 12 columns):\n",
      " #   Column       Non-Null Count  Dtype  \n",
      "---  ------       --------------  -----  \n",
      " 0   PassengerId  891 non-null    int64  \n",
      " 1   Survived     891 non-null    int64  \n",
      " 2   Pclass       891 non-null    int64  \n",
      " 3   Name         891 non-null    object \n",
      " 4   Sex          891 non-null    object \n",
      " 5   Age          714 non-null    float64\n",
      " 6   SibSp        891 non-null    int64  \n",
      " 7   Parch        891 non-null    int64  \n",
      " 8   Ticket       891 non-null    object \n",
      " 9   Fare         891 non-null    float64\n",
      " 10  Cabin        204 non-null    object \n",
      " 11  Embarked     889 non-null    object \n",
      "dtypes: float64(2), int64(5), object(5)\n",
      "memory usage: 83.7+ KB\n"
     ]
    }
   ],
   "source": [
    "df_train.info()\n",
    "# there are 7 numerical(quantitative) columns and 5 categorical columns"
   ]
  },
  {
   "cell_type": "code",
   "execution_count": 7,
   "id": "11466a6c",
   "metadata": {
    "execution": {
     "iopub.execute_input": "2022-10-07T18:11:21.446045Z",
     "iopub.status.busy": "2022-10-07T18:11:21.445331Z",
     "iopub.status.idle": "2022-10-07T18:11:21.452750Z",
     "shell.execute_reply": "2022-10-07T18:11:21.451381Z"
    },
    "papermill": {
     "duration": 0.026994,
     "end_time": "2022-10-07T18:11:21.455660",
     "exception": false,
     "start_time": "2022-10-07T18:11:21.428666",
     "status": "completed"
    },
    "tags": []
   },
   "outputs": [
    {
     "data": {
      "text/plain": [
       "(891, 12)"
      ]
     },
     "execution_count": 7,
     "metadata": {},
     "output_type": "execute_result"
    }
   ],
   "source": [
    "df_train.shape\n",
    "#It contains 891 rows or records or experiments and 12 columns or feat"
   ]
  },
  {
   "cell_type": "code",
   "execution_count": 8,
   "id": "b3828fca",
   "metadata": {
    "execution": {
     "iopub.execute_input": "2022-10-07T18:11:21.489411Z",
     "iopub.status.busy": "2022-10-07T18:11:21.488113Z",
     "iopub.status.idle": "2022-10-07T18:11:21.497637Z",
     "shell.execute_reply": "2022-10-07T18:11:21.496282Z"
    },
    "papermill": {
     "duration": 0.028912,
     "end_time": "2022-10-07T18:11:21.500354",
     "exception": false,
     "start_time": "2022-10-07T18:11:21.471442",
     "status": "completed"
    },
    "tags": []
   },
   "outputs": [
    {
     "data": {
      "text/plain": [
       "array(['male', 'female'], dtype=object)"
      ]
     },
     "execution_count": 8,
     "metadata": {},
     "output_type": "execute_result"
    }
   ],
   "source": [
    "df_train['Sex'].unique()"
   ]
  },
  {
   "cell_type": "code",
   "execution_count": 9,
   "id": "39dcd118",
   "metadata": {
    "execution": {
     "iopub.execute_input": "2022-10-07T18:11:21.532222Z",
     "iopub.status.busy": "2022-10-07T18:11:21.531738Z",
     "iopub.status.idle": "2022-10-07T18:11:21.540903Z",
     "shell.execute_reply": "2022-10-07T18:11:21.539938Z"
    },
    "papermill": {
     "duration": 0.028415,
     "end_time": "2022-10-07T18:11:21.543814",
     "exception": false,
     "start_time": "2022-10-07T18:11:21.515399",
     "status": "completed"
    },
    "tags": []
   },
   "outputs": [
    {
     "data": {
      "text/plain": [
       "male      577\n",
       "female    314\n",
       "Name: Sex, dtype: int64"
      ]
     },
     "execution_count": 9,
     "metadata": {},
     "output_type": "execute_result"
    }
   ],
   "source": [
    "df_train.Sex.value_counts()\n"
   ]
  },
  {
   "cell_type": "code",
   "execution_count": 10,
   "id": "d1a73466",
   "metadata": {
    "execution": {
     "iopub.execute_input": "2022-10-07T18:11:21.576376Z",
     "iopub.status.busy": "2022-10-07T18:11:21.575816Z",
     "iopub.status.idle": "2022-10-07T18:11:21.585418Z",
     "shell.execute_reply": "2022-10-07T18:11:21.584108Z"
    },
    "papermill": {
     "duration": 0.029103,
     "end_time": "2022-10-07T18:11:21.588158",
     "exception": false,
     "start_time": "2022-10-07T18:11:21.559055",
     "status": "completed"
    },
    "tags": []
   },
   "outputs": [
    {
     "data": {
      "text/plain": [
       "0    549\n",
       "1    342\n",
       "Name: Survived, dtype: int64"
      ]
     },
     "execution_count": 10,
     "metadata": {},
     "output_type": "execute_result"
    }
   ],
   "source": [
    "#checking for the data imbalance\n",
    "df_train.Survived.value_counts()"
   ]
  },
  {
   "cell_type": "code",
   "execution_count": 11,
   "id": "6a702815",
   "metadata": {
    "execution": {
     "iopub.execute_input": "2022-10-07T18:11:21.620467Z",
     "iopub.status.busy": "2022-10-07T18:11:21.620042Z",
     "iopub.status.idle": "2022-10-07T18:11:21.637407Z",
     "shell.execute_reply": "2022-10-07T18:11:21.636135Z"
    },
    "papermill": {
     "duration": 0.0368,
     "end_time": "2022-10-07T18:11:21.640127",
     "exception": false,
     "start_time": "2022-10-07T18:11:21.603327",
     "status": "completed"
    },
    "tags": []
   },
   "outputs": [
    {
     "data": {
      "text/html": [
       "<div>\n",
       "<style scoped>\n",
       "    .dataframe tbody tr th:only-of-type {\n",
       "        vertical-align: middle;\n",
       "    }\n",
       "\n",
       "    .dataframe tbody tr th {\n",
       "        vertical-align: top;\n",
       "    }\n",
       "\n",
       "    .dataframe thead th {\n",
       "        text-align: right;\n",
       "    }\n",
       "</style>\n",
       "<table border=\"1\" class=\"dataframe\">\n",
       "  <thead>\n",
       "    <tr style=\"text-align: right;\">\n",
       "      <th></th>\n",
       "      <th>PassengerId</th>\n",
       "      <th>Pclass</th>\n",
       "      <th>Name</th>\n",
       "      <th>Sex</th>\n",
       "      <th>Age</th>\n",
       "      <th>SibSp</th>\n",
       "      <th>Parch</th>\n",
       "      <th>Ticket</th>\n",
       "      <th>Fare</th>\n",
       "      <th>Cabin</th>\n",
       "      <th>Embarked</th>\n",
       "    </tr>\n",
       "  </thead>\n",
       "  <tbody>\n",
       "    <tr>\n",
       "      <th>0</th>\n",
       "      <td>892</td>\n",
       "      <td>3</td>\n",
       "      <td>Kelly, Mr. James</td>\n",
       "      <td>male</td>\n",
       "      <td>34.5</td>\n",
       "      <td>0</td>\n",
       "      <td>0</td>\n",
       "      <td>330911</td>\n",
       "      <td>7.8292</td>\n",
       "      <td>NaN</td>\n",
       "      <td>Q</td>\n",
       "    </tr>\n",
       "    <tr>\n",
       "      <th>1</th>\n",
       "      <td>893</td>\n",
       "      <td>3</td>\n",
       "      <td>Wilkes, Mrs. James (Ellen Needs)</td>\n",
       "      <td>female</td>\n",
       "      <td>47.0</td>\n",
       "      <td>1</td>\n",
       "      <td>0</td>\n",
       "      <td>363272</td>\n",
       "      <td>7.0000</td>\n",
       "      <td>NaN</td>\n",
       "      <td>S</td>\n",
       "    </tr>\n",
       "    <tr>\n",
       "      <th>2</th>\n",
       "      <td>894</td>\n",
       "      <td>2</td>\n",
       "      <td>Myles, Mr. Thomas Francis</td>\n",
       "      <td>male</td>\n",
       "      <td>62.0</td>\n",
       "      <td>0</td>\n",
       "      <td>0</td>\n",
       "      <td>240276</td>\n",
       "      <td>9.6875</td>\n",
       "      <td>NaN</td>\n",
       "      <td>Q</td>\n",
       "    </tr>\n",
       "    <tr>\n",
       "      <th>3</th>\n",
       "      <td>895</td>\n",
       "      <td>3</td>\n",
       "      <td>Wirz, Mr. Albert</td>\n",
       "      <td>male</td>\n",
       "      <td>27.0</td>\n",
       "      <td>0</td>\n",
       "      <td>0</td>\n",
       "      <td>315154</td>\n",
       "      <td>8.6625</td>\n",
       "      <td>NaN</td>\n",
       "      <td>S</td>\n",
       "    </tr>\n",
       "    <tr>\n",
       "      <th>4</th>\n",
       "      <td>896</td>\n",
       "      <td>3</td>\n",
       "      <td>Hirvonen, Mrs. Alexander (Helga E Lindqvist)</td>\n",
       "      <td>female</td>\n",
       "      <td>22.0</td>\n",
       "      <td>1</td>\n",
       "      <td>1</td>\n",
       "      <td>3101298</td>\n",
       "      <td>12.2875</td>\n",
       "      <td>NaN</td>\n",
       "      <td>S</td>\n",
       "    </tr>\n",
       "  </tbody>\n",
       "</table>\n",
       "</div>"
      ],
      "text/plain": [
       "   PassengerId  Pclass                                          Name     Sex  \\\n",
       "0          892       3                              Kelly, Mr. James    male   \n",
       "1          893       3              Wilkes, Mrs. James (Ellen Needs)  female   \n",
       "2          894       2                     Myles, Mr. Thomas Francis    male   \n",
       "3          895       3                              Wirz, Mr. Albert    male   \n",
       "4          896       3  Hirvonen, Mrs. Alexander (Helga E Lindqvist)  female   \n",
       "\n",
       "    Age  SibSp  Parch   Ticket     Fare Cabin Embarked  \n",
       "0  34.5      0      0   330911   7.8292   NaN        Q  \n",
       "1  47.0      1      0   363272   7.0000   NaN        S  \n",
       "2  62.0      0      0   240276   9.6875   NaN        Q  \n",
       "3  27.0      0      0   315154   8.6625   NaN        S  \n",
       "4  22.0      1      1  3101298  12.2875   NaN        S  "
      ]
     },
     "execution_count": 11,
     "metadata": {},
     "output_type": "execute_result"
    }
   ],
   "source": [
    "df_test.head()"
   ]
  },
  {
   "cell_type": "code",
   "execution_count": 12,
   "id": "148d34d7",
   "metadata": {
    "execution": {
     "iopub.execute_input": "2022-10-07T18:11:21.674694Z",
     "iopub.status.busy": "2022-10-07T18:11:21.674282Z",
     "iopub.status.idle": "2022-10-07T18:11:21.682655Z",
     "shell.execute_reply": "2022-10-07T18:11:21.681203Z"
    },
    "papermill": {
     "duration": 0.028078,
     "end_time": "2022-10-07T18:11:21.685419",
     "exception": false,
     "start_time": "2022-10-07T18:11:21.657341",
     "status": "completed"
    },
    "tags": []
   },
   "outputs": [
    {
     "data": {
      "text/plain": [
       "(418, 11)"
      ]
     },
     "execution_count": 12,
     "metadata": {},
     "output_type": "execute_result"
    }
   ],
   "source": [
    "df_test.shape"
   ]
  },
  {
   "cell_type": "code",
   "execution_count": 13,
   "id": "1961acc9",
   "metadata": {
    "execution": {
     "iopub.execute_input": "2022-10-07T18:11:21.721317Z",
     "iopub.status.busy": "2022-10-07T18:11:21.719729Z",
     "iopub.status.idle": "2022-10-07T18:11:23.122726Z",
     "shell.execute_reply": "2022-10-07T18:11:23.121419Z"
    },
    "papermill": {
     "duration": 1.424212,
     "end_time": "2022-10-07T18:11:23.125547",
     "exception": false,
     "start_time": "2022-10-07T18:11:21.701335",
     "status": "completed"
    },
    "tags": []
   },
   "outputs": [
    {
     "data": {
      "image/png": "[encoded data removed]",
      "text/plain": [
       "<Figure size 720x3600 with 7 Axes>"
      ]
     },
     "metadata": {
      "needs_background": "light"
     },
     "output_type": "display_data"
    }
   ],
   "source": [
    "num_col = df_train.select_dtypes(include=np.number)#selecting numeric datatype\n",
    "\n",
    "col_index = 0\n",
    "\n",
    "rows = 7\n",
    "col = 1\n",
    "\n",
    "fig , ax = plt.subplots(nrows=rows,ncols=col,figsize=[10,50])\n",
    "for row_count in range(rows):\n",
    "    ax[row_count].scatter(y=num_col.iloc[:,row_count],x=num_col.index)\n",
    "    ax[row_count].set_ylabel(num_col.columns[row_count])\n",
    "    \n",
    "# there are outliers in column 'Fare'"
   ]
  },
  {
   "cell_type": "code",
   "execution_count": 14,
   "id": "9c60175b",
   "metadata": {
    "execution": {
     "iopub.execute_input": "2022-10-07T18:11:23.162727Z",
     "iopub.status.busy": "2022-10-07T18:11:23.161389Z",
     "iopub.status.idle": "2022-10-07T18:11:23.174250Z",
     "shell.execute_reply": "2022-10-07T18:11:23.172437Z"
    },
    "papermill": {
     "duration": 0.034353,
     "end_time": "2022-10-07T18:11:23.176898",
     "exception": false,
     "start_time": "2022-10-07T18:11:23.142545",
     "status": "completed"
    },
    "tags": []
   },
   "outputs": [
    {
     "name": "stdout",
     "output_type": "stream",
     "text": [
      "Number of unique values in column Name : 891\n",
      "Number of unique values in column Sex : 2\n",
      "Number of unique values in column Ticket : 681\n",
      "Number of unique values in column Cabin : 147\n",
      "Number of unique values in column Embarked : 3\n"
     ]
    },
    {
     "name": "stderr",
     "output_type": "stream",
     "text": [
      "/opt/conda/lib/python3.7/site-packages/ipykernel_launcher.py:2: DeprecationWarning: `np.object` is a deprecated alias for the builtin `object`. To silence this warning, use `object` by itself. Doing this will not modify any behavior and is safe. \n",
      "Deprecated in NumPy 1.20; for more details and guidance: https://numpy.org/devdocs/release/1.20.0-notes.html#deprecations\n",
      "  \n"
     ]
    }
   ],
   "source": [
    "#Analyzing the categorical values\n",
    "df_cat = df_train.select_dtypes(include=np.object)\n",
    "\n",
    "cat_col = list(df_cat.columns)\n",
    "\n",
    "for i in cat_col:\n",
    "    print(f'Number of unique values in column {i} : {df_cat[i].nunique()}')\n",
    "    \n",
    "# Column 'Name' has 891 unique values in 891 records as this is for identification we can drop this column\n",
    "# Similarly 'Ticket' and 'cabin' also can be ignored for now as these will not add much value to my model\n",
    "# column 'sex' and 'embarked' can be mapped to create dummies"
   ]
  },
  {
   "cell_type": "markdown",
   "id": "42be1788",
   "metadata": {
    "papermill": {
     "duration": 0.016608,
     "end_time": "2022-10-07T18:11:23.211129",
     "exception": false,
     "start_time": "2022-10-07T18:11:23.194521",
     "status": "completed"
    },
    "tags": []
   },
   "source": [
    "# Data Preprocessing"
   ]
  },
  {
   "cell_type": "code",
   "execution_count": 15,
   "id": "13c68258",
   "metadata": {
    "execution": {
     "iopub.execute_input": "2022-10-07T18:11:23.247539Z",
     "iopub.status.busy": "2022-10-07T18:11:23.247107Z",
     "iopub.status.idle": "2022-10-07T18:11:23.251811Z",
     "shell.execute_reply": "2022-10-07T18:11:23.250891Z"
    },
    "papermill": {
     "duration": 0.026127,
     "end_time": "2022-10-07T18:11:23.254152",
     "exception": false,
     "start_time": "2022-10-07T18:11:23.228025",
     "status": "completed"
    },
    "tags": []
   },
   "outputs": [],
   "source": [
    "# Based on the EDA we will take below action on training set.\n",
    "# 1. Remove the columns which are not necessary or not relevant\n",
    "# 2. handling missing values\n",
    "# 3. handle outliers\n",
    "# 4. handle categorical values\n",
    "# 5. Do the scaling\n"
   ]
  },
  {
   "cell_type": "code",
   "execution_count": 16,
   "id": "ddc589e4",
   "metadata": {
    "execution": {
     "iopub.execute_input": "2022-10-07T18:11:23.291478Z",
     "iopub.status.busy": "2022-10-07T18:11:23.290820Z",
     "iopub.status.idle": "2022-10-07T18:11:23.307059Z",
     "shell.execute_reply": "2022-10-07T18:11:23.306078Z"
    },
    "papermill": {
     "duration": 0.038219,
     "end_time": "2022-10-07T18:11:23.309730",
     "exception": false,
     "start_time": "2022-10-07T18:11:23.271511",
     "status": "completed"
    },
    "tags": []
   },
   "outputs": [
    {
     "data": {
      "text/html": [
       "<div>\n",
       "<style scoped>\n",
       "    .dataframe tbody tr th:only-of-type {\n",
       "        vertical-align: middle;\n",
       "    }\n",
       "\n",
       "    .dataframe tbody tr th {\n",
       "        vertical-align: top;\n",
       "    }\n",
       "\n",
       "    .dataframe thead th {\n",
       "        text-align: right;\n",
       "    }\n",
       "</style>\n",
       "<table border=\"1\" class=\"dataframe\">\n",
       "  <thead>\n",
       "    <tr style=\"text-align: right;\">\n",
       "      <th></th>\n",
       "      <th>PassengerId</th>\n",
       "      <th>Survived</th>\n",
       "      <th>Pclass</th>\n",
       "      <th>Name</th>\n",
       "      <th>Sex</th>\n",
       "      <th>Age</th>\n",
       "      <th>SibSp</th>\n",
       "      <th>Parch</th>\n",
       "      <th>Ticket</th>\n",
       "      <th>Fare</th>\n",
       "      <th>Cabin</th>\n",
       "      <th>Embarked</th>\n",
       "    </tr>\n",
       "  </thead>\n",
       "  <tbody>\n",
       "    <tr>\n",
       "      <th>0</th>\n",
       "      <td>1</td>\n",
       "      <td>0</td>\n",
       "      <td>3</td>\n",
       "      <td>Braund, Mr. Owen Harris</td>\n",
       "      <td>male</td>\n",
       "      <td>22.0</td>\n",
       "      <td>1</td>\n",
       "      <td>0</td>\n",
       "      <td>A/5 21171</td>\n",
       "      <td>7.2500</td>\n",
       "      <td>NaN</td>\n",
       "      <td>S</td>\n",
       "    </tr>\n",
       "    <tr>\n",
       "      <th>1</th>\n",
       "      <td>2</td>\n",
       "      <td>1</td>\n",
       "      <td>1</td>\n",
       "      <td>Cumings, Mrs. John Bradley (Florence Briggs Th...</td>\n",
       "      <td>female</td>\n",
       "      <td>38.0</td>\n",
       "      <td>1</td>\n",
       "      <td>0</td>\n",
       "      <td>PC 17599</td>\n",
       "      <td>71.2833</td>\n",
       "      <td>C85</td>\n",
       "      <td>C</td>\n",
       "    </tr>\n",
       "    <tr>\n",
       "      <th>2</th>\n",
       "      <td>3</td>\n",
       "      <td>1</td>\n",
       "      <td>3</td>\n",
       "      <td>Heikkinen, Miss. Laina</td>\n",
       "      <td>female</td>\n",
       "      <td>26.0</td>\n",
       "      <td>0</td>\n",
       "      <td>0</td>\n",
       "      <td>STON/O2. 3101282</td>\n",
       "      <td>7.9250</td>\n",
       "      <td>NaN</td>\n",
       "      <td>S</td>\n",
       "    </tr>\n",
       "    <tr>\n",
       "      <th>3</th>\n",
       "      <td>4</td>\n",
       "      <td>1</td>\n",
       "      <td>1</td>\n",
       "      <td>Futrelle, Mrs. Jacques Heath (Lily May Peel)</td>\n",
       "      <td>female</td>\n",
       "      <td>35.0</td>\n",
       "      <td>1</td>\n",
       "      <td>0</td>\n",
       "      <td>113803</td>\n",
       "      <td>53.1000</td>\n",
       "      <td>C123</td>\n",
       "      <td>S</td>\n",
       "    </tr>\n",
       "    <tr>\n",
       "      <th>4</th>\n",
       "      <td>5</td>\n",
       "      <td>0</td>\n",
       "      <td>3</td>\n",
       "      <td>Allen, Mr. William Henry</td>\n",
       "      <td>male</td>\n",
       "      <td>35.0</td>\n",
       "      <td>0</td>\n",
       "      <td>0</td>\n",
       "      <td>373450</td>\n",
       "      <td>8.0500</td>\n",
       "      <td>NaN</td>\n",
       "      <td>S</td>\n",
       "    </tr>\n",
       "  </tbody>\n",
       "</table>\n",
       "</div>"
      ],
      "text/plain": [
       "   PassengerId  Survived  Pclass  \\\n",
       "0            1         0       3   \n",
       "1            2         1       1   \n",
       "2            3         1       3   \n",
       "3            4         1       1   \n",
       "4            5         0       3   \n",
       "\n",
       "                                                Name     Sex   Age  SibSp  \\\n",
       "0                            Braund, Mr. Owen Harris    male  22.0      1   \n",
       "1  Cumings, Mrs. John Bradley (Florence Briggs Th...  female  38.0      1   \n",
       "2                             Heikkinen, Miss. Laina  female  26.0      0   \n",
       "3       Futrelle, Mrs. Jacques Heath (Lily May Peel)  female  35.0      1   \n",
       "4                           Allen, Mr. William Henry    male  35.0      0   \n",
       "\n",
       "   Parch            Ticket     Fare Cabin Embarked  \n",
       "0      0         A/5 21171   7.2500   NaN        S  \n",
       "1      0          PC 17599  71.2833   C85        C  \n",
       "2      0  STON/O2. 3101282   7.9250   NaN        S  \n",
       "3      0            113803  53.1000  C123        S  \n",
       "4      0            373450   8.0500   NaN        S  "
      ]
     },
     "execution_count": 16,
     "metadata": {},
     "output_type": "execute_result"
    }
   ],
   "source": [
    "#### 1. Remove irrelevant columns in the dataset ####\n",
    "df_train.head()"
   ]
  },
  {
   "cell_type": "code",
   "execution_count": 17,
   "id": "5bd31304",
   "metadata": {
    "execution": {
     "iopub.execute_input": "2022-10-07T18:11:23.347074Z",
     "iopub.status.busy": "2022-10-07T18:11:23.346423Z",
     "iopub.status.idle": "2022-10-07T18:11:23.351753Z",
     "shell.execute_reply": "2022-10-07T18:11:23.350410Z"
    },
    "papermill": {
     "duration": 0.027322,
     "end_time": "2022-10-07T18:11:23.354581",
     "exception": false,
     "start_time": "2022-10-07T18:11:23.327259",
     "status": "completed"
    },
    "tags": []
   },
   "outputs": [],
   "source": [
    "final_sub = df_test['PassengerId']"
   ]
  },
  {
   "cell_type": "code",
   "execution_count": 18,
   "id": "2de522d3",
   "metadata": {
    "execution": {
     "iopub.execute_input": "2022-10-07T18:11:23.393853Z",
     "iopub.status.busy": "2022-10-07T18:11:23.393385Z",
     "iopub.status.idle": "2022-10-07T18:11:23.403720Z",
     "shell.execute_reply": "2022-10-07T18:11:23.402673Z"
    },
    "papermill": {
     "duration": 0.032551,
     "end_time": "2022-10-07T18:11:23.405942",
     "exception": false,
     "start_time": "2022-10-07T18:11:23.373391",
     "status": "completed"
    },
    "tags": []
   },
   "outputs": [
    {
     "data": {
      "text/plain": [
       "Index(['Survived', 'Pclass', 'Name', 'Sex', 'Age', 'SibSp', 'Parch', 'Ticket',\n",
       "       'Fare', 'Cabin', 'Embarked'],\n",
       "      dtype='object')"
      ]
     },
     "execution_count": 18,
     "metadata": {},
     "output_type": "execute_result"
    }
   ],
   "source": [
    "#dropping passengerid which is a numeric column\n",
    "dropped_col = []\n",
    "df_train.drop(['PassengerId'],axis=1,inplace=True)\n",
    "df_test.drop(['PassengerId'],axis=1,inplace=True)\n",
    "dropped_col.append('PassengerId')\n",
    "df_train.columns\n"
   ]
  },
  {
   "cell_type": "code",
   "execution_count": 19,
   "id": "85102eed",
   "metadata": {
    "execution": {
     "iopub.execute_input": "2022-10-07T18:11:23.444338Z",
     "iopub.status.busy": "2022-10-07T18:11:23.443926Z",
     "iopub.status.idle": "2022-10-07T18:11:23.463259Z",
     "shell.execute_reply": "2022-10-07T18:11:23.461698Z"
    },
    "papermill": {
     "duration": 0.040561,
     "end_time": "2022-10-07T18:11:23.465707",
     "exception": false,
     "start_time": "2022-10-07T18:11:23.425146",
     "status": "completed"
    },
    "tags": []
   },
   "outputs": [
    {
     "data": {
      "text/html": [
       "<div>\n",
       "<style scoped>\n",
       "    .dataframe tbody tr th:only-of-type {\n",
       "        vertical-align: middle;\n",
       "    }\n",
       "\n",
       "    .dataframe tbody tr th {\n",
       "        vertical-align: top;\n",
       "    }\n",
       "\n",
       "    .dataframe thead th {\n",
       "        text-align: right;\n",
       "    }\n",
       "</style>\n",
       "<table border=\"1\" class=\"dataframe\">\n",
       "  <thead>\n",
       "    <tr style=\"text-align: right;\">\n",
       "      <th></th>\n",
       "      <th>Survived</th>\n",
       "      <th>Pclass</th>\n",
       "      <th>Sex</th>\n",
       "      <th>Age</th>\n",
       "      <th>SibSp</th>\n",
       "      <th>Parch</th>\n",
       "      <th>Fare</th>\n",
       "      <th>Cabin</th>\n",
       "      <th>Embarked</th>\n",
       "    </tr>\n",
       "  </thead>\n",
       "  <tbody>\n",
       "    <tr>\n",
       "      <th>0</th>\n",
       "      <td>0</td>\n",
       "      <td>3</td>\n",
       "      <td>male</td>\n",
       "      <td>22.0</td>\n",
       "      <td>1</td>\n",
       "      <td>0</td>\n",
       "      <td>7.2500</td>\n",
       "      <td>NaN</td>\n",
       "      <td>S</td>\n",
       "    </tr>\n",
       "    <tr>\n",
       "      <th>1</th>\n",
       "      <td>1</td>\n",
       "      <td>1</td>\n",
       "      <td>female</td>\n",
       "      <td>38.0</td>\n",
       "      <td>1</td>\n",
       "      <td>0</td>\n",
       "      <td>71.2833</td>\n",
       "      <td>C85</td>\n",
       "      <td>C</td>\n",
       "    </tr>\n",
       "    <tr>\n",
       "      <th>2</th>\n",
       "      <td>1</td>\n",
       "      <td>3</td>\n",
       "      <td>female</td>\n",
       "      <td>26.0</td>\n",
       "      <td>0</td>\n",
       "      <td>0</td>\n",
       "      <td>7.9250</td>\n",
       "      <td>NaN</td>\n",
       "      <td>S</td>\n",
       "    </tr>\n",
       "    <tr>\n",
       "      <th>3</th>\n",
       "      <td>1</td>\n",
       "      <td>1</td>\n",
       "      <td>female</td>\n",
       "      <td>35.0</td>\n",
       "      <td>1</td>\n",
       "      <td>0</td>\n",
       "      <td>53.1000</td>\n",
       "      <td>C123</td>\n",
       "      <td>S</td>\n",
       "    </tr>\n",
       "    <tr>\n",
       "      <th>4</th>\n",
       "      <td>0</td>\n",
       "      <td>3</td>\n",
       "      <td>male</td>\n",
       "      <td>35.0</td>\n",
       "      <td>0</td>\n",
       "      <td>0</td>\n",
       "      <td>8.0500</td>\n",
       "      <td>NaN</td>\n",
       "      <td>S</td>\n",
       "    </tr>\n",
       "  </tbody>\n",
       "</table>\n",
       "</div>"
      ],
      "text/plain": [
       "   Survived  Pclass     Sex   Age  SibSp  Parch     Fare Cabin Embarked\n",
       "0         0       3    male  22.0      1      0   7.2500   NaN        S\n",
       "1         1       1  female  38.0      1      0  71.2833   C85        C\n",
       "2         1       3  female  26.0      0      0   7.9250   NaN        S\n",
       "3         1       1  female  35.0      1      0  53.1000  C123        S\n",
       "4         0       3    male  35.0      0      0   8.0500   NaN        S"
      ]
     },
     "execution_count": 19,
     "metadata": {},
     "output_type": "execute_result"
    }
   ],
   "source": [
    "#dropping Name and ticket column as there are not relevant or these does not add much value to my model\n",
    "df_train.drop(['Name','Ticket'],axis=1,inplace=True)\n",
    "df_test.drop(['Name','Ticket'],axis=1,inplace=True)\n",
    "dropped_col.extend(['Name','Ticket'])\n",
    "df_train.head()"
   ]
  },
  {
   "cell_type": "code",
   "execution_count": 20,
   "id": "f1aa5468",
   "metadata": {
    "execution": {
     "iopub.execute_input": "2022-10-07T18:11:23.506934Z",
     "iopub.status.busy": "2022-10-07T18:11:23.506265Z",
     "iopub.status.idle": "2022-10-07T18:11:23.523527Z",
     "shell.execute_reply": "2022-10-07T18:11:23.522328Z"
    },
    "papermill": {
     "duration": 0.040389,
     "end_time": "2022-10-07T18:11:23.525947",
     "exception": false,
     "start_time": "2022-10-07T18:11:23.485558",
     "status": "completed"
    },
    "tags": []
   },
   "outputs": [
    {
     "data": {
      "text/html": [
       "<div>\n",
       "<style scoped>\n",
       "    .dataframe tbody tr th:only-of-type {\n",
       "        vertical-align: middle;\n",
       "    }\n",
       "\n",
       "    .dataframe tbody tr th {\n",
       "        vertical-align: top;\n",
       "    }\n",
       "\n",
       "    .dataframe thead th {\n",
       "        text-align: right;\n",
       "    }\n",
       "</style>\n",
       "<table border=\"1\" class=\"dataframe\">\n",
       "  <thead>\n",
       "    <tr style=\"text-align: right;\">\n",
       "      <th></th>\n",
       "      <th>Survived</th>\n",
       "      <th>Pclass</th>\n",
       "      <th>Sex</th>\n",
       "      <th>Age</th>\n",
       "      <th>SibSp</th>\n",
       "      <th>Parch</th>\n",
       "      <th>Fare</th>\n",
       "      <th>Embarked</th>\n",
       "    </tr>\n",
       "  </thead>\n",
       "  <tbody>\n",
       "    <tr>\n",
       "      <th>0</th>\n",
       "      <td>0</td>\n",
       "      <td>3</td>\n",
       "      <td>male</td>\n",
       "      <td>22.0</td>\n",
       "      <td>1</td>\n",
       "      <td>0</td>\n",
       "      <td>7.2500</td>\n",
       "      <td>S</td>\n",
       "    </tr>\n",
       "    <tr>\n",
       "      <th>1</th>\n",
       "      <td>1</td>\n",
       "      <td>1</td>\n",
       "      <td>female</td>\n",
       "      <td>38.0</td>\n",
       "      <td>1</td>\n",
       "      <td>0</td>\n",
       "      <td>71.2833</td>\n",
       "      <td>C</td>\n",
       "    </tr>\n",
       "    <tr>\n",
       "      <th>2</th>\n",
       "      <td>1</td>\n",
       "      <td>3</td>\n",
       "      <td>female</td>\n",
       "      <td>26.0</td>\n",
       "      <td>0</td>\n",
       "      <td>0</td>\n",
       "      <td>7.9250</td>\n",
       "      <td>S</td>\n",
       "    </tr>\n",
       "    <tr>\n",
       "      <th>3</th>\n",
       "      <td>1</td>\n",
       "      <td>1</td>\n",
       "      <td>female</td>\n",
       "      <td>35.0</td>\n",
       "      <td>1</td>\n",
       "      <td>0</td>\n",
       "      <td>53.1000</td>\n",
       "      <td>S</td>\n",
       "    </tr>\n",
       "    <tr>\n",
       "      <th>4</th>\n",
       "      <td>0</td>\n",
       "      <td>3</td>\n",
       "      <td>male</td>\n",
       "      <td>35.0</td>\n",
       "      <td>0</td>\n",
       "      <td>0</td>\n",
       "      <td>8.0500</td>\n",
       "      <td>S</td>\n",
       "    </tr>\n",
       "  </tbody>\n",
       "</table>\n",
       "</div>"
      ],
      "text/plain": [
       "   Survived  Pclass     Sex   Age  SibSp  Parch     Fare Embarked\n",
       "0         0       3    male  22.0      1      0   7.2500        S\n",
       "1         1       1  female  38.0      1      0  71.2833        C\n",
       "2         1       3  female  26.0      0      0   7.9250        S\n",
       "3         1       1  female  35.0      1      0  53.1000        S\n",
       "4         0       3    male  35.0      0      0   8.0500        S"
      ]
     },
     "execution_count": 20,
     "metadata": {},
     "output_type": "execute_result"
    }
   ],
   "source": [
    "#dropping cabin column for now because it hard to create 147(unique values) dummies for this\n",
    "df_train.drop(['Cabin'],axis=1,inplace=True)\n",
    "df_test.drop(['Cabin'],axis=1,inplace=True)\n",
    "dropped_col.append('Cabin')\n",
    "df_train.head()"
   ]
  },
  {
   "cell_type": "code",
   "execution_count": 21,
   "id": "0f4bcba7",
   "metadata": {
    "execution": {
     "iopub.execute_input": "2022-10-07T18:11:23.565508Z",
     "iopub.status.busy": "2022-10-07T18:11:23.564819Z",
     "iopub.status.idle": "2022-10-07T18:11:23.575007Z",
     "shell.execute_reply": "2022-10-07T18:11:23.573357Z"
    },
    "papermill": {
     "duration": 0.033105,
     "end_time": "2022-10-07T18:11:23.577552",
     "exception": false,
     "start_time": "2022-10-07T18:11:23.544447",
     "status": "completed"
    },
    "tags": []
   },
   "outputs": [
    {
     "data": {
      "text/plain": [
       "Survived      0\n",
       "Pclass        0\n",
       "Sex           0\n",
       "Age         177\n",
       "SibSp         0\n",
       "Parch         0\n",
       "Fare          0\n",
       "Embarked      2\n",
       "dtype: int64"
      ]
     },
     "execution_count": 21,
     "metadata": {},
     "output_type": "execute_result"
    }
   ],
   "source": [
    "#### 2. Handling The Missing Value ####\n",
    "\n",
    "df_train.isnull().sum()"
   ]
  },
  {
   "cell_type": "code",
   "execution_count": 22,
   "id": "c32fc961",
   "metadata": {
    "execution": {
     "iopub.execute_input": "2022-10-07T18:11:23.617035Z",
     "iopub.status.busy": "2022-10-07T18:11:23.616265Z",
     "iopub.status.idle": "2022-10-07T18:11:23.627432Z",
     "shell.execute_reply": "2022-10-07T18:11:23.626161Z"
    },
    "papermill": {
     "duration": 0.033929,
     "end_time": "2022-10-07T18:11:23.630391",
     "exception": false,
     "start_time": "2022-10-07T18:11:23.596462",
     "status": "completed"
    },
    "tags": []
   },
   "outputs": [
    {
     "data": {
      "text/plain": [
       "Pclass       0\n",
       "Sex          0\n",
       "Age         86\n",
       "SibSp        0\n",
       "Parch        0\n",
       "Fare         1\n",
       "Embarked     0\n",
       "dtype: int64"
      ]
     },
     "execution_count": 22,
     "metadata": {},
     "output_type": "execute_result"
    }
   ],
   "source": [
    "df_test.isnull().sum()"
   ]
  },
  {
   "cell_type": "code",
   "execution_count": 23,
   "id": "43909204",
   "metadata": {
    "execution": {
     "iopub.execute_input": "2022-10-07T18:11:23.669154Z",
     "iopub.status.busy": "2022-10-07T18:11:23.668139Z",
     "iopub.status.idle": "2022-10-07T18:11:23.791560Z",
     "shell.execute_reply": "2022-10-07T18:11:23.790042Z"
    },
    "papermill": {
     "duration": 0.145844,
     "end_time": "2022-10-07T18:11:23.794478",
     "exception": false,
     "start_time": "2022-10-07T18:11:23.648634",
     "status": "completed"
    },
    "tags": []
   },
   "outputs": [
    {
     "data": {
      "text/plain": [
       "28.0"
      ]
     },
     "execution_count": 23,
     "metadata": {},
     "output_type": "execute_result"
    }
   ],
   "source": [
    "#Age column is a numeric column, we have 177 null values,\n",
    "#it is more than 15% of data so removing them is not a best option.\n",
    "#So we have to replace these with mean or median and we choose median beause mean will get affected severely by outliers\n",
    "\n",
    "df_train['Age'].median()\n",
    "\n",
    "#28.0 is the median for Age column\n",
    "\n"
   ]
  },
  {
   "cell_type": "code",
   "execution_count": 24,
   "id": "40b29d5d",
   "metadata": {
    "execution": {
     "iopub.execute_input": "2022-10-07T18:11:23.832879Z",
     "iopub.status.busy": "2022-10-07T18:11:23.832457Z",
     "iopub.status.idle": "2022-10-07T18:11:23.839222Z",
     "shell.execute_reply": "2022-10-07T18:11:23.837988Z"
    },
    "papermill": {
     "duration": 0.029352,
     "end_time": "2022-10-07T18:11:23.842101",
     "exception": false,
     "start_time": "2022-10-07T18:11:23.812749",
     "status": "completed"
    },
    "tags": []
   },
   "outputs": [],
   "source": [
    "#replacing null values with median 28\n",
    "df_train['Age'].replace(np.nan,df_train['Age'].median(),inplace=True)"
   ]
  },
  {
   "cell_type": "code",
   "execution_count": 25,
   "id": "f537f141",
   "metadata": {
    "execution": {
     "iopub.execute_input": "2022-10-07T18:11:23.881373Z",
     "iopub.status.busy": "2022-10-07T18:11:23.880987Z",
     "iopub.status.idle": "2022-10-07T18:11:23.890795Z",
     "shell.execute_reply": "2022-10-07T18:11:23.889434Z"
    },
    "papermill": {
     "duration": 0.03281,
     "end_time": "2022-10-07T18:11:23.893772",
     "exception": false,
     "start_time": "2022-10-07T18:11:23.860962",
     "status": "completed"
    },
    "tags": []
   },
   "outputs": [
    {
     "data": {
      "text/plain": [
       "Survived    0\n",
       "Pclass      0\n",
       "Sex         0\n",
       "Age         0\n",
       "SibSp       0\n",
       "Parch       0\n",
       "Fare        0\n",
       "Embarked    2\n",
       "dtype: int64"
      ]
     },
     "execution_count": 25,
     "metadata": {},
     "output_type": "execute_result"
    }
   ],
   "source": [
    "df_train.isnull().sum()"
   ]
  },
  {
   "cell_type": "code",
   "execution_count": 26,
   "id": "6736cc7a",
   "metadata": {
    "execution": {
     "iopub.execute_input": "2022-10-07T18:11:23.932721Z",
     "iopub.status.busy": "2022-10-07T18:11:23.932317Z",
     "iopub.status.idle": "2022-10-07T18:11:23.940675Z",
     "shell.execute_reply": "2022-10-07T18:11:23.939362Z"
    },
    "papermill": {
     "duration": 0.031,
     "end_time": "2022-10-07T18:11:23.943303",
     "exception": false,
     "start_time": "2022-10-07T18:11:23.912303",
     "status": "completed"
    },
    "tags": []
   },
   "outputs": [
    {
     "data": {
      "text/plain": [
       "27.0"
      ]
     },
     "execution_count": 26,
     "metadata": {},
     "output_type": "execute_result"
    }
   ],
   "source": [
    "df_test['Age'].median()\n",
    "#27 is meadian for test data"
   ]
  },
  {
   "cell_type": "code",
   "execution_count": 27,
   "id": "b4ade813",
   "metadata": {
    "execution": {
     "iopub.execute_input": "2022-10-07T18:11:23.982614Z",
     "iopub.status.busy": "2022-10-07T18:11:23.982218Z",
     "iopub.status.idle": "2022-10-07T18:11:23.989458Z",
     "shell.execute_reply": "2022-10-07T18:11:23.988173Z"
    },
    "papermill": {
     "duration": 0.030527,
     "end_time": "2022-10-07T18:11:23.992063",
     "exception": false,
     "start_time": "2022-10-07T18:11:23.961536",
     "status": "completed"
    },
    "tags": []
   },
   "outputs": [],
   "source": [
    "#replacing null values with median 27\n",
    "df_test['Age'].replace(np.nan,df_test['Age'].median(),inplace=True)"
   ]
  },
  {
   "cell_type": "code",
   "execution_count": 28,
   "id": "6cea96dc",
   "metadata": {
    "execution": {
     "iopub.execute_input": "2022-10-07T18:11:24.031542Z",
     "iopub.status.busy": "2022-10-07T18:11:24.031096Z",
     "iopub.status.idle": "2022-10-07T18:11:24.042119Z",
     "shell.execute_reply": "2022-10-07T18:11:24.040895Z"
    },
    "papermill": {
     "duration": 0.034242,
     "end_time": "2022-10-07T18:11:24.044660",
     "exception": false,
     "start_time": "2022-10-07T18:11:24.010418",
     "status": "completed"
    },
    "tags": []
   },
   "outputs": [
    {
     "data": {
      "text/plain": [
       "Pclass      0\n",
       "Sex         0\n",
       "Age         0\n",
       "SibSp       0\n",
       "Parch       0\n",
       "Fare        1\n",
       "Embarked    0\n",
       "dtype: int64"
      ]
     },
     "execution_count": 28,
     "metadata": {},
     "output_type": "execute_result"
    }
   ],
   "source": [
    "df_test.isnull().sum()"
   ]
  },
  {
   "cell_type": "code",
   "execution_count": 29,
   "id": "8183f6e5",
   "metadata": {
    "execution": {
     "iopub.execute_input": "2022-10-07T18:11:24.085342Z",
     "iopub.status.busy": "2022-10-07T18:11:24.084920Z",
     "iopub.status.idle": "2022-10-07T18:11:24.091549Z",
     "shell.execute_reply": "2022-10-07T18:11:24.090191Z"
    },
    "papermill": {
     "duration": 0.030583,
     "end_time": "2022-10-07T18:11:24.093804",
     "exception": false,
     "start_time": "2022-10-07T18:11:24.063221",
     "status": "completed"
    },
    "tags": []
   },
   "outputs": [],
   "source": [
    "\n",
    "df_test['Fare'].replace(np.nan,df_test['Fare'].median(),inplace=True)"
   ]
  },
  {
   "cell_type": "code",
   "execution_count": 30,
   "id": "e716c820",
   "metadata": {
    "execution": {
     "iopub.execute_input": "2022-10-07T18:11:24.132806Z",
     "iopub.status.busy": "2022-10-07T18:11:24.132398Z",
     "iopub.status.idle": "2022-10-07T18:11:24.142912Z",
     "shell.execute_reply": "2022-10-07T18:11:24.141696Z"
    },
    "papermill": {
     "duration": 0.033007,
     "end_time": "2022-10-07T18:11:24.145445",
     "exception": false,
     "start_time": "2022-10-07T18:11:24.112438",
     "status": "completed"
    },
    "tags": []
   },
   "outputs": [
    {
     "data": {
      "text/plain": [
       "Pclass      0\n",
       "Sex         0\n",
       "Age         0\n",
       "SibSp       0\n",
       "Parch       0\n",
       "Fare        0\n",
       "Embarked    0\n",
       "dtype: int64"
      ]
     },
     "execution_count": 30,
     "metadata": {},
     "output_type": "execute_result"
    }
   ],
   "source": [
    "df_test.isnull().sum()"
   ]
  },
  {
   "cell_type": "code",
   "execution_count": 31,
   "id": "24f1ff8c",
   "metadata": {
    "execution": {
     "iopub.execute_input": "2022-10-07T18:11:24.184655Z",
     "iopub.status.busy": "2022-10-07T18:11:24.184248Z",
     "iopub.status.idle": "2022-10-07T18:11:24.193536Z",
     "shell.execute_reply": "2022-10-07T18:11:24.192047Z"
    },
    "papermill": {
     "duration": 0.032201,
     "end_time": "2022-10-07T18:11:24.196385",
     "exception": false,
     "start_time": "2022-10-07T18:11:24.164184",
     "status": "completed"
    },
    "tags": []
   },
   "outputs": [],
   "source": [
    "#there are only 2 missing values in Embarked column hence we are removing these rows\n",
    "df_train.dropna(subset=['Embarked'],inplace=True)"
   ]
  },
  {
   "cell_type": "code",
   "execution_count": 32,
   "id": "2bcc9bfc",
   "metadata": {
    "execution": {
     "iopub.execute_input": "2022-10-07T18:11:24.237222Z",
     "iopub.status.busy": "2022-10-07T18:11:24.236782Z",
     "iopub.status.idle": "2022-10-07T18:11:24.248917Z",
     "shell.execute_reply": "2022-10-07T18:11:24.247498Z"
    },
    "papermill": {
     "duration": 0.035066,
     "end_time": "2022-10-07T18:11:24.251729",
     "exception": false,
     "start_time": "2022-10-07T18:11:24.216663",
     "status": "completed"
    },
    "tags": []
   },
   "outputs": [
    {
     "data": {
      "text/plain": [
       "Survived    0\n",
       "Pclass      0\n",
       "Sex         0\n",
       "Age         0\n",
       "SibSp       0\n",
       "Parch       0\n",
       "Fare        0\n",
       "Embarked    0\n",
       "dtype: int64"
      ]
     },
     "execution_count": 32,
     "metadata": {},
     "output_type": "execute_result"
    }
   ],
   "source": [
    "df_train.isnull().sum()"
   ]
  },
  {
   "cell_type": "code",
   "execution_count": 33,
   "id": "66b9ff87",
   "metadata": {
    "execution": {
     "iopub.execute_input": "2022-10-07T18:11:24.291869Z",
     "iopub.status.busy": "2022-10-07T18:11:24.291435Z",
     "iopub.status.idle": "2022-10-07T18:11:24.308578Z",
     "shell.execute_reply": "2022-10-07T18:11:24.307381Z"
    },
    "papermill": {
     "duration": 0.041224,
     "end_time": "2022-10-07T18:11:24.311767",
     "exception": false,
     "start_time": "2022-10-07T18:11:24.270543",
     "status": "completed"
    },
    "tags": []
   },
   "outputs": [
    {
     "data": {
      "text/html": [
       "<div>\n",
       "<style scoped>\n",
       "    .dataframe tbody tr th:only-of-type {\n",
       "        vertical-align: middle;\n",
       "    }\n",
       "\n",
       "    .dataframe tbody tr th {\n",
       "        vertical-align: top;\n",
       "    }\n",
       "\n",
       "    .dataframe thead th {\n",
       "        text-align: right;\n",
       "    }\n",
       "</style>\n",
       "<table border=\"1\" class=\"dataframe\">\n",
       "  <thead>\n",
       "    <tr style=\"text-align: right;\">\n",
       "      <th></th>\n",
       "      <th>Survived</th>\n",
       "      <th>Pclass</th>\n",
       "      <th>Sex</th>\n",
       "      <th>Age</th>\n",
       "      <th>SibSp</th>\n",
       "      <th>Parch</th>\n",
       "      <th>Fare</th>\n",
       "      <th>Embarked</th>\n",
       "    </tr>\n",
       "  </thead>\n",
       "  <tbody>\n",
       "    <tr>\n",
       "      <th>258</th>\n",
       "      <td>1</td>\n",
       "      <td>1</td>\n",
       "      <td>female</td>\n",
       "      <td>35.0</td>\n",
       "      <td>0</td>\n",
       "      <td>0</td>\n",
       "      <td>512.3292</td>\n",
       "      <td>C</td>\n",
       "    </tr>\n",
       "    <tr>\n",
       "      <th>679</th>\n",
       "      <td>1</td>\n",
       "      <td>1</td>\n",
       "      <td>male</td>\n",
       "      <td>36.0</td>\n",
       "      <td>0</td>\n",
       "      <td>1</td>\n",
       "      <td>512.3292</td>\n",
       "      <td>C</td>\n",
       "    </tr>\n",
       "    <tr>\n",
       "      <th>737</th>\n",
       "      <td>1</td>\n",
       "      <td>1</td>\n",
       "      <td>male</td>\n",
       "      <td>35.0</td>\n",
       "      <td>0</td>\n",
       "      <td>0</td>\n",
       "      <td>512.3292</td>\n",
       "      <td>C</td>\n",
       "    </tr>\n",
       "  </tbody>\n",
       "</table>\n",
       "</div>"
      ],
      "text/plain": [
       "     Survived  Pclass     Sex   Age  SibSp  Parch      Fare Embarked\n",
       "258         1       1  female  35.0      0      0  512.3292        C\n",
       "679         1       1    male  36.0      0      1  512.3292        C\n",
       "737         1       1    male  35.0      0      0  512.3292        C"
      ]
     },
     "execution_count": 33,
     "metadata": {},
     "output_type": "execute_result"
    }
   ],
   "source": [
    "#### 3. Handling outlier ####\n",
    "# By using the graphs in EDA, i can see there are 3 outliers in Fare column so to handle this,\n",
    "# we can capp these values\n",
    "df_train.loc[df_train['Fare']>400]"
   ]
  },
  {
   "cell_type": "code",
   "execution_count": 34,
   "id": "198f2e5e",
   "metadata": {
    "execution": {
     "iopub.execute_input": "2022-10-07T18:11:24.352570Z",
     "iopub.status.busy": "2022-10-07T18:11:24.352147Z",
     "iopub.status.idle": "2022-10-07T18:11:24.364448Z",
     "shell.execute_reply": "2022-10-07T18:11:24.362691Z"
    },
    "papermill": {
     "duration": 0.036512,
     "end_time": "2022-10-07T18:11:24.367581",
     "exception": false,
     "start_time": "2022-10-07T18:11:24.331069",
     "status": "completed"
    },
    "tags": []
   },
   "outputs": [
    {
     "name": "stderr",
     "output_type": "stream",
     "text": [
      "/opt/conda/lib/python3.7/site-packages/pandas/core/indexing.py:1732: SettingWithCopyWarning: \n",
      "A value is trying to be set on a copy of a slice from a DataFrame\n",
      "\n",
      "See the caveats in the documentation: https://pandas.pydata.org/pandas-docs/stable/user_guide/indexing.html#returning-a-view-versus-a-copy\n",
      "  self._setitem_single_block(indexer, value, name)\n"
     ]
    }
   ],
   "source": [
    "# we can capp these values to 300\n",
    "df_train['Fare'].loc[df_train['Fare']>400]=300"
   ]
  },
  {
   "cell_type": "code",
   "execution_count": 35,
   "id": "86d5c04e",
   "metadata": {
    "execution": {
     "iopub.execute_input": "2022-10-07T18:11:24.409056Z",
     "iopub.status.busy": "2022-10-07T18:11:24.408625Z",
     "iopub.status.idle": "2022-10-07T18:11:24.419616Z",
     "shell.execute_reply": "2022-10-07T18:11:24.418698Z"
    },
    "papermill": {
     "duration": 0.035131,
     "end_time": "2022-10-07T18:11:24.421910",
     "exception": false,
     "start_time": "2022-10-07T18:11:24.386779",
     "status": "completed"
    },
    "tags": []
   },
   "outputs": [
    {
     "data": {
      "text/html": [
       "<div>\n",
       "<style scoped>\n",
       "    .dataframe tbody tr th:only-of-type {\n",
       "        vertical-align: middle;\n",
       "    }\n",
       "\n",
       "    .dataframe tbody tr th {\n",
       "        vertical-align: top;\n",
       "    }\n",
       "\n",
       "    .dataframe thead th {\n",
       "        text-align: right;\n",
       "    }\n",
       "</style>\n",
       "<table border=\"1\" class=\"dataframe\">\n",
       "  <thead>\n",
       "    <tr style=\"text-align: right;\">\n",
       "      <th></th>\n",
       "      <th>Survived</th>\n",
       "      <th>Pclass</th>\n",
       "      <th>Sex</th>\n",
       "      <th>Age</th>\n",
       "      <th>SibSp</th>\n",
       "      <th>Parch</th>\n",
       "      <th>Fare</th>\n",
       "      <th>Embarked</th>\n",
       "    </tr>\n",
       "  </thead>\n",
       "  <tbody>\n",
       "  </tbody>\n",
       "</table>\n",
       "</div>"
      ],
      "text/plain": [
       "Empty DataFrame\n",
       "Columns: [Survived, Pclass, Sex, Age, SibSp, Parch, Fare, Embarked]\n",
       "Index: []"
      ]
     },
     "execution_count": 35,
     "metadata": {},
     "output_type": "execute_result"
    }
   ],
   "source": [
    "df_train.loc[df_train['Fare']>400]"
   ]
  },
  {
   "cell_type": "code",
   "execution_count": 36,
   "id": "b5179e72",
   "metadata": {
    "execution": {
     "iopub.execute_input": "2022-10-07T18:11:24.464469Z",
     "iopub.status.busy": "2022-10-07T18:11:24.464017Z",
     "iopub.status.idle": "2022-10-07T18:11:24.481475Z",
     "shell.execute_reply": "2022-10-07T18:11:24.479641Z"
    },
    "papermill": {
     "duration": 0.043263,
     "end_time": "2022-10-07T18:11:24.484550",
     "exception": false,
     "start_time": "2022-10-07T18:11:24.441287",
     "status": "completed"
    },
    "tags": []
   },
   "outputs": [
    {
     "name": "stderr",
     "output_type": "stream",
     "text": [
      "/opt/conda/lib/python3.7/site-packages/ipykernel_launcher.py:2: DeprecationWarning: `np.object` is a deprecated alias for the builtin `object`. To silence this warning, use `object` by itself. Doing this will not modify any behavior and is safe. \n",
      "Deprecated in NumPy 1.20; for more details and guidance: https://numpy.org/devdocs/release/1.20.0-notes.html#deprecations\n",
      "  \n"
     ]
    },
    {
     "data": {
      "text/html": [
       "<div>\n",
       "<style scoped>\n",
       "    .dataframe tbody tr th:only-of-type {\n",
       "        vertical-align: middle;\n",
       "    }\n",
       "\n",
       "    .dataframe tbody tr th {\n",
       "        vertical-align: top;\n",
       "    }\n",
       "\n",
       "    .dataframe thead th {\n",
       "        text-align: right;\n",
       "    }\n",
       "</style>\n",
       "<table border=\"1\" class=\"dataframe\">\n",
       "  <thead>\n",
       "    <tr style=\"text-align: right;\">\n",
       "      <th></th>\n",
       "      <th>Sex</th>\n",
       "      <th>Embarked</th>\n",
       "    </tr>\n",
       "  </thead>\n",
       "  <tbody>\n",
       "    <tr>\n",
       "      <th>0</th>\n",
       "      <td>male</td>\n",
       "      <td>S</td>\n",
       "    </tr>\n",
       "    <tr>\n",
       "      <th>1</th>\n",
       "      <td>female</td>\n",
       "      <td>C</td>\n",
       "    </tr>\n",
       "    <tr>\n",
       "      <th>2</th>\n",
       "      <td>female</td>\n",
       "      <td>S</td>\n",
       "    </tr>\n",
       "    <tr>\n",
       "      <th>3</th>\n",
       "      <td>female</td>\n",
       "      <td>S</td>\n",
       "    </tr>\n",
       "    <tr>\n",
       "      <th>4</th>\n",
       "      <td>male</td>\n",
       "      <td>S</td>\n",
       "    </tr>\n",
       "    <tr>\n",
       "      <th>...</th>\n",
       "      <td>...</td>\n",
       "      <td>...</td>\n",
       "    </tr>\n",
       "    <tr>\n",
       "      <th>886</th>\n",
       "      <td>male</td>\n",
       "      <td>S</td>\n",
       "    </tr>\n",
       "    <tr>\n",
       "      <th>887</th>\n",
       "      <td>female</td>\n",
       "      <td>S</td>\n",
       "    </tr>\n",
       "    <tr>\n",
       "      <th>888</th>\n",
       "      <td>female</td>\n",
       "      <td>S</td>\n",
       "    </tr>\n",
       "    <tr>\n",
       "      <th>889</th>\n",
       "      <td>male</td>\n",
       "      <td>C</td>\n",
       "    </tr>\n",
       "    <tr>\n",
       "      <th>890</th>\n",
       "      <td>male</td>\n",
       "      <td>Q</td>\n",
       "    </tr>\n",
       "  </tbody>\n",
       "</table>\n",
       "<p>889 rows × 2 columns</p>\n",
       "</div>"
      ],
      "text/plain": [
       "        Sex Embarked\n",
       "0      male        S\n",
       "1    female        C\n",
       "2    female        S\n",
       "3    female        S\n",
       "4      male        S\n",
       "..      ...      ...\n",
       "886    male        S\n",
       "887  female        S\n",
       "888  female        S\n",
       "889    male        C\n",
       "890    male        Q\n",
       "\n",
       "[889 rows x 2 columns]"
      ]
     },
     "execution_count": 36,
     "metadata": {},
     "output_type": "execute_result"
    }
   ],
   "source": [
    "#### 4. Handling categorical values ####\n",
    "df_train.select_dtypes(include=np.object)"
   ]
  },
  {
   "cell_type": "code",
   "execution_count": 37,
   "id": "156395e2",
   "metadata": {
    "execution": {
     "iopub.execute_input": "2022-10-07T18:11:24.529596Z",
     "iopub.status.busy": "2022-10-07T18:11:24.529154Z",
     "iopub.status.idle": "2022-10-07T18:11:24.538689Z",
     "shell.execute_reply": "2022-10-07T18:11:24.537433Z"
    },
    "papermill": {
     "duration": 0.035463,
     "end_time": "2022-10-07T18:11:24.541228",
     "exception": false,
     "start_time": "2022-10-07T18:11:24.505765",
     "status": "completed"
    },
    "tags": []
   },
   "outputs": [
    {
     "data": {
      "text/plain": [
       "array(['male', 'female'], dtype=object)"
      ]
     },
     "execution_count": 37,
     "metadata": {},
     "output_type": "execute_result"
    }
   ],
   "source": [
    "df_train['Sex'].unique()"
   ]
  },
  {
   "cell_type": "code",
   "execution_count": 38,
   "id": "ba4e2a30",
   "metadata": {
    "execution": {
     "iopub.execute_input": "2022-10-07T18:11:24.584539Z",
     "iopub.status.busy": "2022-10-07T18:11:24.584124Z",
     "iopub.status.idle": "2022-10-07T18:11:24.593763Z",
     "shell.execute_reply": "2022-10-07T18:11:24.591866Z"
    },
    "papermill": {
     "duration": 0.035377,
     "end_time": "2022-10-07T18:11:24.597204",
     "exception": false,
     "start_time": "2022-10-07T18:11:24.561827",
     "status": "completed"
    },
    "tags": []
   },
   "outputs": [],
   "source": [
    "df_train['Sex'] = df_train['Sex'].map({'male':0,'female':1})\n",
    "df_test['Sex'] = df_test['Sex'].map({'male':0,'female':1})"
   ]
  },
  {
   "cell_type": "code",
   "execution_count": 39,
   "id": "fde03b89",
   "metadata": {
    "execution": {
     "iopub.execute_input": "2022-10-07T18:11:24.639169Z",
     "iopub.status.busy": "2022-10-07T18:11:24.638393Z",
     "iopub.status.idle": "2022-10-07T18:11:24.647497Z",
     "shell.execute_reply": "2022-10-07T18:11:24.645845Z"
    },
    "papermill": {
     "duration": 0.03264,
     "end_time": "2022-10-07T18:11:24.649799",
     "exception": false,
     "start_time": "2022-10-07T18:11:24.617159",
     "status": "completed"
    },
    "tags": []
   },
   "outputs": [
    {
     "data": {
      "text/plain": [
       "array(['S', 'C', 'Q'], dtype=object)"
      ]
     },
     "execution_count": 39,
     "metadata": {},
     "output_type": "execute_result"
    }
   ],
   "source": [
    "df_train['Embarked'].unique()"
   ]
  },
  {
   "cell_type": "code",
   "execution_count": 40,
   "id": "3ba98f51",
   "metadata": {
    "execution": {
     "iopub.execute_input": "2022-10-07T18:11:24.693256Z",
     "iopub.status.busy": "2022-10-07T18:11:24.692724Z",
     "iopub.status.idle": "2022-10-07T18:11:24.703650Z",
     "shell.execute_reply": "2022-10-07T18:11:24.702252Z"
    },
    "papermill": {
     "duration": 0.036449,
     "end_time": "2022-10-07T18:11:24.706309",
     "exception": false,
     "start_time": "2022-10-07T18:11:24.669860",
     "status": "completed"
    },
    "tags": []
   },
   "outputs": [
    {
     "data": {
      "text/plain": [
       "S    644\n",
       "C    168\n",
       "Q     77\n",
       "Name: Embarked, dtype: int64"
      ]
     },
     "execution_count": 40,
     "metadata": {},
     "output_type": "execute_result"
    }
   ],
   "source": [
    "df_train['Embarked'].value_counts()"
   ]
  },
  {
   "cell_type": "code",
   "execution_count": 41,
   "id": "61294ffb",
   "metadata": {
    "execution": {
     "iopub.execute_input": "2022-10-07T18:11:24.749207Z",
     "iopub.status.busy": "2022-10-07T18:11:24.748746Z",
     "iopub.status.idle": "2022-10-07T18:11:24.770174Z",
     "shell.execute_reply": "2022-10-07T18:11:24.768946Z"
    },
    "papermill": {
     "duration": 0.046764,
     "end_time": "2022-10-07T18:11:24.773919",
     "exception": false,
     "start_time": "2022-10-07T18:11:24.727155",
     "status": "completed"
    },
    "tags": []
   },
   "outputs": [
    {
     "data": {
      "text/html": [
       "<div>\n",
       "<style scoped>\n",
       "    .dataframe tbody tr th:only-of-type {\n",
       "        vertical-align: middle;\n",
       "    }\n",
       "\n",
       "    .dataframe tbody tr th {\n",
       "        vertical-align: top;\n",
       "    }\n",
       "\n",
       "    .dataframe thead th {\n",
       "        text-align: right;\n",
       "    }\n",
       "</style>\n",
       "<table border=\"1\" class=\"dataframe\">\n",
       "  <thead>\n",
       "    <tr style=\"text-align: right;\">\n",
       "      <th></th>\n",
       "      <th>Survived</th>\n",
       "      <th>Pclass</th>\n",
       "      <th>Sex</th>\n",
       "      <th>Age</th>\n",
       "      <th>SibSp</th>\n",
       "      <th>Parch</th>\n",
       "      <th>Fare</th>\n",
       "      <th>Embarked_C</th>\n",
       "      <th>Embarked_Q</th>\n",
       "      <th>Embarked_S</th>\n",
       "    </tr>\n",
       "  </thead>\n",
       "  <tbody>\n",
       "    <tr>\n",
       "      <th>0</th>\n",
       "      <td>0</td>\n",
       "      <td>3</td>\n",
       "      <td>0</td>\n",
       "      <td>22.0</td>\n",
       "      <td>1</td>\n",
       "      <td>0</td>\n",
       "      <td>7.2500</td>\n",
       "      <td>0</td>\n",
       "      <td>0</td>\n",
       "      <td>1</td>\n",
       "    </tr>\n",
       "    <tr>\n",
       "      <th>1</th>\n",
       "      <td>1</td>\n",
       "      <td>1</td>\n",
       "      <td>1</td>\n",
       "      <td>38.0</td>\n",
       "      <td>1</td>\n",
       "      <td>0</td>\n",
       "      <td>71.2833</td>\n",
       "      <td>1</td>\n",
       "      <td>0</td>\n",
       "      <td>0</td>\n",
       "    </tr>\n",
       "    <tr>\n",
       "      <th>2</th>\n",
       "      <td>1</td>\n",
       "      <td>3</td>\n",
       "      <td>1</td>\n",
       "      <td>26.0</td>\n",
       "      <td>0</td>\n",
       "      <td>0</td>\n",
       "      <td>7.9250</td>\n",
       "      <td>0</td>\n",
       "      <td>0</td>\n",
       "      <td>1</td>\n",
       "    </tr>\n",
       "    <tr>\n",
       "      <th>3</th>\n",
       "      <td>1</td>\n",
       "      <td>1</td>\n",
       "      <td>1</td>\n",
       "      <td>35.0</td>\n",
       "      <td>1</td>\n",
       "      <td>0</td>\n",
       "      <td>53.1000</td>\n",
       "      <td>0</td>\n",
       "      <td>0</td>\n",
       "      <td>1</td>\n",
       "    </tr>\n",
       "    <tr>\n",
       "      <th>4</th>\n",
       "      <td>0</td>\n",
       "      <td>3</td>\n",
       "      <td>0</td>\n",
       "      <td>35.0</td>\n",
       "      <td>0</td>\n",
       "      <td>0</td>\n",
       "      <td>8.0500</td>\n",
       "      <td>0</td>\n",
       "      <td>0</td>\n",
       "      <td>1</td>\n",
       "    </tr>\n",
       "  </tbody>\n",
       "</table>\n",
       "</div>"
      ],
      "text/plain": [
       "   Survived  Pclass  Sex   Age  SibSp  Parch     Fare  Embarked_C  Embarked_Q  \\\n",
       "0         0       3    0  22.0      1      0   7.2500           0           0   \n",
       "1         1       1    1  38.0      1      0  71.2833           1           0   \n",
       "2         1       3    1  26.0      0      0   7.9250           0           0   \n",
       "3         1       1    1  35.0      1      0  53.1000           0           0   \n",
       "4         0       3    0  35.0      0      0   8.0500           0           0   \n",
       "\n",
       "   Embarked_S  \n",
       "0           1  \n",
       "1           0  \n",
       "2           1  \n",
       "3           1  \n",
       "4           1  "
      ]
     },
     "execution_count": 41,
     "metadata": {},
     "output_type": "execute_result"
    }
   ],
   "source": [
    "#getting dummies for training data\n",
    "embarked_dummies = pd.get_dummies(df_train['Embarked'],prefix='Embarked')#created a dummies column for Embarked\n",
    "\n",
    "df_train.drop(['Embarked'],inplace=True,axis=1) # Now we can remove Embarked column\n",
    "\n",
    "df_train = pd.concat([df_train,embarked_dummies],axis=1)#Adding these dummies column to the dataset\n",
    "\n",
    "df_train.head()"
   ]
  },
  {
   "cell_type": "code",
   "execution_count": 42,
   "id": "c2d481c6",
   "metadata": {
    "execution": {
     "iopub.execute_input": "2022-10-07T18:11:24.820287Z",
     "iopub.status.busy": "2022-10-07T18:11:24.819815Z",
     "iopub.status.idle": "2022-10-07T18:11:24.840295Z",
     "shell.execute_reply": "2022-10-07T18:11:24.838910Z"
    },
    "papermill": {
     "duration": 0.047373,
     "end_time": "2022-10-07T18:11:24.843159",
     "exception": false,
     "start_time": "2022-10-07T18:11:24.795786",
     "status": "completed"
    },
    "tags": []
   },
   "outputs": [
    {
     "data": {
      "text/html": [
       "<div>\n",
       "<style scoped>\n",
       "    .dataframe tbody tr th:only-of-type {\n",
       "        vertical-align: middle;\n",
       "    }\n",
       "\n",
       "    .dataframe tbody tr th {\n",
       "        vertical-align: top;\n",
       "    }\n",
       "\n",
       "    .dataframe thead th {\n",
       "        text-align: right;\n",
       "    }\n",
       "</style>\n",
       "<table border=\"1\" class=\"dataframe\">\n",
       "  <thead>\n",
       "    <tr style=\"text-align: right;\">\n",
       "      <th></th>\n",
       "      <th>Pclass</th>\n",
       "      <th>Sex</th>\n",
       "      <th>Age</th>\n",
       "      <th>SibSp</th>\n",
       "      <th>Parch</th>\n",
       "      <th>Fare</th>\n",
       "      <th>Embarked_C</th>\n",
       "      <th>Embarked_Q</th>\n",
       "      <th>Embarked_S</th>\n",
       "    </tr>\n",
       "  </thead>\n",
       "  <tbody>\n",
       "    <tr>\n",
       "      <th>0</th>\n",
       "      <td>3</td>\n",
       "      <td>0</td>\n",
       "      <td>34.5</td>\n",
       "      <td>0</td>\n",
       "      <td>0</td>\n",
       "      <td>7.8292</td>\n",
       "      <td>0</td>\n",
       "      <td>1</td>\n",
       "      <td>0</td>\n",
       "    </tr>\n",
       "    <tr>\n",
       "      <th>1</th>\n",
       "      <td>3</td>\n",
       "      <td>1</td>\n",
       "      <td>47.0</td>\n",
       "      <td>1</td>\n",
       "      <td>0</td>\n",
       "      <td>7.0000</td>\n",
       "      <td>0</td>\n",
       "      <td>0</td>\n",
       "      <td>1</td>\n",
       "    </tr>\n",
       "    <tr>\n",
       "      <th>2</th>\n",
       "      <td>2</td>\n",
       "      <td>0</td>\n",
       "      <td>62.0</td>\n",
       "      <td>0</td>\n",
       "      <td>0</td>\n",
       "      <td>9.6875</td>\n",
       "      <td>0</td>\n",
       "      <td>1</td>\n",
       "      <td>0</td>\n",
       "    </tr>\n",
       "    <tr>\n",
       "      <th>3</th>\n",
       "      <td>3</td>\n",
       "      <td>0</td>\n",
       "      <td>27.0</td>\n",
       "      <td>0</td>\n",
       "      <td>0</td>\n",
       "      <td>8.6625</td>\n",
       "      <td>0</td>\n",
       "      <td>0</td>\n",
       "      <td>1</td>\n",
       "    </tr>\n",
       "    <tr>\n",
       "      <th>4</th>\n",
       "      <td>3</td>\n",
       "      <td>1</td>\n",
       "      <td>22.0</td>\n",
       "      <td>1</td>\n",
       "      <td>1</td>\n",
       "      <td>12.2875</td>\n",
       "      <td>0</td>\n",
       "      <td>0</td>\n",
       "      <td>1</td>\n",
       "    </tr>\n",
       "  </tbody>\n",
       "</table>\n",
       "</div>"
      ],
      "text/plain": [
       "   Pclass  Sex   Age  SibSp  Parch     Fare  Embarked_C  Embarked_Q  \\\n",
       "0       3    0  34.5      0      0   7.8292           0           1   \n",
       "1       3    1  47.0      1      0   7.0000           0           0   \n",
       "2       2    0  62.0      0      0   9.6875           0           1   \n",
       "3       3    0  27.0      0      0   8.6625           0           0   \n",
       "4       3    1  22.0      1      1  12.2875           0           0   \n",
       "\n",
       "   Embarked_S  \n",
       "0           0  \n",
       "1           1  \n",
       "2           0  \n",
       "3           1  \n",
       "4           1  "
      ]
     },
     "execution_count": 42,
     "metadata": {},
     "output_type": "execute_result"
    }
   ],
   "source": [
    "#getting dummies for test data\n",
    "embarked_dummies = pd.get_dummies(df_test['Embarked'],prefix='Embarked')#created a dummies column for Embarked\n",
    "\n",
    "df_test.drop(['Embarked'],inplace=True,axis=1) # Now we can remove Embarked column\n",
    "\n",
    "df_test = pd.concat([df_test,embarked_dummies],axis=1)#Adding these dummies column to the dataset\n",
    "\n",
    "df_test.head()"
   ]
  },
  {
   "cell_type": "code",
   "execution_count": 43,
   "id": "bc6e6daf",
   "metadata": {
    "execution": {
     "iopub.execute_input": "2022-10-07T18:11:24.888395Z",
     "iopub.status.busy": "2022-10-07T18:11:24.887608Z",
     "iopub.status.idle": "2022-10-07T18:11:24.895870Z",
     "shell.execute_reply": "2022-10-07T18:11:24.894060Z"
    },
    "papermill": {
     "duration": 0.034113,
     "end_time": "2022-10-07T18:11:24.898773",
     "exception": false,
     "start_time": "2022-10-07T18:11:24.864660",
     "status": "completed"
    },
    "tags": []
   },
   "outputs": [],
   "source": [
    "### getting feature and target\n",
    "df_train_features = df_train.drop(['Survived'],axis=1)\n",
    "df_train_target = df_train['Survived']\n",
    "df_train_features.head()\n",
    "\n",
    "col_names = list(df_train_features.columns)"
   ]
  },
  {
   "cell_type": "code",
   "execution_count": 44,
   "id": "0157ece5",
   "metadata": {
    "execution": {
     "iopub.execute_input": "2022-10-07T18:11:24.946035Z",
     "iopub.status.busy": "2022-10-07T18:11:24.945348Z",
     "iopub.status.idle": "2022-10-07T18:11:26.041286Z",
     "shell.execute_reply": "2022-10-07T18:11:26.040055Z"
    },
    "papermill": {
     "duration": 1.123366,
     "end_time": "2022-10-07T18:11:26.043666",
     "exception": false,
     "start_time": "2022-10-07T18:11:24.920300",
     "status": "completed"
    },
    "tags": []
   },
   "outputs": [
    {
     "data": {
      "text/html": [
       "<div>\n",
       "<style scoped>\n",
       "    .dataframe tbody tr th:only-of-type {\n",
       "        vertical-align: middle;\n",
       "    }\n",
       "\n",
       "    .dataframe tbody tr th {\n",
       "        vertical-align: top;\n",
       "    }\n",
       "\n",
       "    .dataframe thead th {\n",
       "        text-align: right;\n",
       "    }\n",
       "</style>\n",
       "<table border=\"1\" class=\"dataframe\">\n",
       "  <thead>\n",
       "    <tr style=\"text-align: right;\">\n",
       "      <th></th>\n",
       "      <th>Pclass</th>\n",
       "      <th>Sex</th>\n",
       "      <th>Age</th>\n",
       "      <th>SibSp</th>\n",
       "      <th>Parch</th>\n",
       "      <th>Fare</th>\n",
       "      <th>Embarked_C</th>\n",
       "      <th>Embarked_Q</th>\n",
       "      <th>Embarked_S</th>\n",
       "    </tr>\n",
       "  </thead>\n",
       "  <tbody>\n",
       "    <tr>\n",
       "      <th>0</th>\n",
       "      <td>0.825209</td>\n",
       "      <td>-0.735342</td>\n",
       "      <td>-0.563674</td>\n",
       "      <td>0.431350</td>\n",
       "      <td>-0.474326</td>\n",
       "      <td>-0.549194</td>\n",
       "      <td>-0.482711</td>\n",
       "      <td>-0.307941</td>\n",
       "      <td>0.616794</td>\n",
       "    </tr>\n",
       "    <tr>\n",
       "      <th>1</th>\n",
       "      <td>-1.572211</td>\n",
       "      <td>1.359911</td>\n",
       "      <td>0.669217</td>\n",
       "      <td>0.431350</td>\n",
       "      <td>-0.474326</td>\n",
       "      <td>0.908182</td>\n",
       "      <td>2.071634</td>\n",
       "      <td>-0.307941</td>\n",
       "      <td>-1.621287</td>\n",
       "    </tr>\n",
       "    <tr>\n",
       "      <th>2</th>\n",
       "      <td>0.825209</td>\n",
       "      <td>1.359911</td>\n",
       "      <td>-0.255451</td>\n",
       "      <td>-0.475199</td>\n",
       "      <td>-0.474326</td>\n",
       "      <td>-0.533831</td>\n",
       "      <td>-0.482711</td>\n",
       "      <td>-0.307941</td>\n",
       "      <td>0.616794</td>\n",
       "    </tr>\n",
       "    <tr>\n",
       "      <th>3</th>\n",
       "      <td>-1.572211</td>\n",
       "      <td>1.359911</td>\n",
       "      <td>0.438050</td>\n",
       "      <td>0.431350</td>\n",
       "      <td>-0.474326</td>\n",
       "      <td>0.494336</td>\n",
       "      <td>-0.482711</td>\n",
       "      <td>-0.307941</td>\n",
       "      <td>0.616794</td>\n",
       "    </tr>\n",
       "    <tr>\n",
       "      <th>4</th>\n",
       "      <td>0.825209</td>\n",
       "      <td>-0.735342</td>\n",
       "      <td>0.438050</td>\n",
       "      <td>-0.475199</td>\n",
       "      <td>-0.474326</td>\n",
       "      <td>-0.530986</td>\n",
       "      <td>-0.482711</td>\n",
       "      <td>-0.307941</td>\n",
       "      <td>0.616794</td>\n",
       "    </tr>\n",
       "    <tr>\n",
       "      <th>...</th>\n",
       "      <td>...</td>\n",
       "      <td>...</td>\n",
       "      <td>...</td>\n",
       "      <td>...</td>\n",
       "      <td>...</td>\n",
       "      <td>...</td>\n",
       "      <td>...</td>\n",
       "      <td>...</td>\n",
       "      <td>...</td>\n",
       "    </tr>\n",
       "    <tr>\n",
       "      <th>884</th>\n",
       "      <td>-0.373501</td>\n",
       "      <td>-0.735342</td>\n",
       "      <td>-0.178396</td>\n",
       "      <td>-0.475199</td>\n",
       "      <td>-0.474326</td>\n",
       "      <td>-0.418326</td>\n",
       "      <td>-0.482711</td>\n",
       "      <td>-0.307941</td>\n",
       "      <td>0.616794</td>\n",
       "    </tr>\n",
       "    <tr>\n",
       "      <th>885</th>\n",
       "      <td>-1.572211</td>\n",
       "      <td>1.359911</td>\n",
       "      <td>-0.794841</td>\n",
       "      <td>-0.475199</td>\n",
       "      <td>-0.474326</td>\n",
       "      <td>-0.031412</td>\n",
       "      <td>-0.482711</td>\n",
       "      <td>-0.307941</td>\n",
       "      <td>0.616794</td>\n",
       "    </tr>\n",
       "    <tr>\n",
       "      <th>886</th>\n",
       "      <td>0.825209</td>\n",
       "      <td>1.359911</td>\n",
       "      <td>-0.101340</td>\n",
       "      <td>0.431350</td>\n",
       "      <td>2.006119</td>\n",
       "      <td>-0.180488</td>\n",
       "      <td>-0.482711</td>\n",
       "      <td>-0.307941</td>\n",
       "      <td>0.616794</td>\n",
       "    </tr>\n",
       "    <tr>\n",
       "      <th>887</th>\n",
       "      <td>-1.572211</td>\n",
       "      <td>-0.735342</td>\n",
       "      <td>-0.255451</td>\n",
       "      <td>-0.475199</td>\n",
       "      <td>-0.474326</td>\n",
       "      <td>-0.031412</td>\n",
       "      <td>2.071634</td>\n",
       "      <td>-0.307941</td>\n",
       "      <td>-1.621287</td>\n",
       "    </tr>\n",
       "    <tr>\n",
       "      <th>888</th>\n",
       "      <td>0.825209</td>\n",
       "      <td>-0.735342</td>\n",
       "      <td>0.206883</td>\n",
       "      <td>-0.475199</td>\n",
       "      <td>-0.474326</td>\n",
       "      <td>-0.537814</td>\n",
       "      <td>-0.482711</td>\n",
       "      <td>3.247377</td>\n",
       "      <td>-1.621287</td>\n",
       "    </tr>\n",
       "  </tbody>\n",
       "</table>\n",
       "<p>889 rows × 9 columns</p>\n",
       "</div>"
      ],
      "text/plain": [
       "       Pclass       Sex       Age     SibSp     Parch      Fare  Embarked_C  \\\n",
       "0    0.825209 -0.735342 -0.563674  0.431350 -0.474326 -0.549194   -0.482711   \n",
       "1   -1.572211  1.359911  0.669217  0.431350 -0.474326  0.908182    2.071634   \n",
       "2    0.825209  1.359911 -0.255451 -0.475199 -0.474326 -0.533831   -0.482711   \n",
       "3   -1.572211  1.359911  0.438050  0.431350 -0.474326  0.494336   -0.482711   \n",
       "4    0.825209 -0.735342  0.438050 -0.475199 -0.474326 -0.530986   -0.482711   \n",
       "..        ...       ...       ...       ...       ...       ...         ...   \n",
       "884 -0.373501 -0.735342 -0.178396 -0.475199 -0.474326 -0.418326   -0.482711   \n",
       "885 -1.572211  1.359911 -0.794841 -0.475199 -0.474326 -0.031412   -0.482711   \n",
       "886  0.825209  1.359911 -0.101340  0.431350  2.006119 -0.180488   -0.482711   \n",
       "887 -1.572211 -0.735342 -0.255451 -0.475199 -0.474326 -0.031412    2.071634   \n",
       "888  0.825209 -0.735342  0.206883 -0.475199 -0.474326 -0.537814   -0.482711   \n",
       "\n",
       "     Embarked_Q  Embarked_S  \n",
       "0     -0.307941    0.616794  \n",
       "1     -0.307941   -1.621287  \n",
       "2     -0.307941    0.616794  \n",
       "3     -0.307941    0.616794  \n",
       "4     -0.307941    0.616794  \n",
       "..          ...         ...  \n",
       "884   -0.307941    0.616794  \n",
       "885   -0.307941    0.616794  \n",
       "886   -0.307941    0.616794  \n",
       "887   -0.307941   -1.621287  \n",
       "888    3.247377   -1.621287  \n",
       "\n",
       "[889 rows x 9 columns]"
      ]
     },
     "execution_count": 44,
     "metadata": {},
     "output_type": "execute_result"
    }
   ],
   "source": [
    "#### 5. Now lets do the Scaling ####\n",
    "\n",
    "from sklearn.preprocessing import StandardScaler\n",
    "\n",
    "scale = StandardScaler() #Instance creation\n",
    "\n",
    "scale.fit(df_train_features) ## it will compute mean and standard deviation of every column\n",
    "\n",
    "scaled_df = scale.transform(df_train_features) ### apply the formula (x-mean)/s.d\n",
    "# we can also fit and transform at a time using fit_transform method\n",
    "\n",
    "scaled_df_train_features = pd.DataFrame(data=scaled_df,columns=col_names)\n",
    "scaled_df_train_features"
   ]
  },
  {
   "cell_type": "code",
   "execution_count": 45,
   "id": "d6653856",
   "metadata": {
    "execution": {
     "iopub.execute_input": "2022-10-07T18:11:26.091053Z",
     "iopub.status.busy": "2022-10-07T18:11:26.090583Z",
     "iopub.status.idle": "2022-10-07T18:11:26.118480Z",
     "shell.execute_reply": "2022-10-07T18:11:26.117234Z"
    },
    "papermill": {
     "duration": 0.056377,
     "end_time": "2022-10-07T18:11:26.121125",
     "exception": false,
     "start_time": "2022-10-07T18:11:26.064748",
     "status": "completed"
    },
    "tags": []
   },
   "outputs": [
    {
     "data": {
      "text/html": [
       "<div>\n",
       "<style scoped>\n",
       "    .dataframe tbody tr th:only-of-type {\n",
       "        vertical-align: middle;\n",
       "    }\n",
       "\n",
       "    .dataframe tbody tr th {\n",
       "        vertical-align: top;\n",
       "    }\n",
       "\n",
       "    .dataframe thead th {\n",
       "        text-align: right;\n",
       "    }\n",
       "</style>\n",
       "<table border=\"1\" class=\"dataframe\">\n",
       "  <thead>\n",
       "    <tr style=\"text-align: right;\">\n",
       "      <th></th>\n",
       "      <th>Pclass</th>\n",
       "      <th>Sex</th>\n",
       "      <th>Age</th>\n",
       "      <th>SibSp</th>\n",
       "      <th>Parch</th>\n",
       "      <th>Fare</th>\n",
       "      <th>Embarked_C</th>\n",
       "      <th>Embarked_Q</th>\n",
       "      <th>Embarked_S</th>\n",
       "    </tr>\n",
       "  </thead>\n",
       "  <tbody>\n",
       "    <tr>\n",
       "      <th>0</th>\n",
       "      <td>0.873482</td>\n",
       "      <td>-0.755929</td>\n",
       "      <td>0.386231</td>\n",
       "      <td>-0.499470</td>\n",
       "      <td>-0.400248</td>\n",
       "      <td>-0.497413</td>\n",
       "      <td>-0.568142</td>\n",
       "      <td>2.843757</td>\n",
       "      <td>-1.350676</td>\n",
       "    </tr>\n",
       "    <tr>\n",
       "      <th>1</th>\n",
       "      <td>0.873482</td>\n",
       "      <td>1.322876</td>\n",
       "      <td>1.371370</td>\n",
       "      <td>0.616992</td>\n",
       "      <td>-0.400248</td>\n",
       "      <td>-0.512278</td>\n",
       "      <td>-0.568142</td>\n",
       "      <td>-0.351647</td>\n",
       "      <td>0.740370</td>\n",
       "    </tr>\n",
       "    <tr>\n",
       "      <th>2</th>\n",
       "      <td>-0.315819</td>\n",
       "      <td>-0.755929</td>\n",
       "      <td>2.553537</td>\n",
       "      <td>-0.499470</td>\n",
       "      <td>-0.400248</td>\n",
       "      <td>-0.464100</td>\n",
       "      <td>-0.568142</td>\n",
       "      <td>2.843757</td>\n",
       "      <td>-1.350676</td>\n",
       "    </tr>\n",
       "    <tr>\n",
       "      <th>3</th>\n",
       "      <td>0.873482</td>\n",
       "      <td>-0.755929</td>\n",
       "      <td>-0.204852</td>\n",
       "      <td>-0.499470</td>\n",
       "      <td>-0.400248</td>\n",
       "      <td>-0.482475</td>\n",
       "      <td>-0.568142</td>\n",
       "      <td>-0.351647</td>\n",
       "      <td>0.740370</td>\n",
       "    </tr>\n",
       "    <tr>\n",
       "      <th>4</th>\n",
       "      <td>0.873482</td>\n",
       "      <td>1.322876</td>\n",
       "      <td>-0.598908</td>\n",
       "      <td>0.616992</td>\n",
       "      <td>0.619896</td>\n",
       "      <td>-0.417492</td>\n",
       "      <td>-0.568142</td>\n",
       "      <td>-0.351647</td>\n",
       "      <td>0.740370</td>\n",
       "    </tr>\n",
       "    <tr>\n",
       "      <th>...</th>\n",
       "      <td>...</td>\n",
       "      <td>...</td>\n",
       "      <td>...</td>\n",
       "      <td>...</td>\n",
       "      <td>...</td>\n",
       "      <td>...</td>\n",
       "      <td>...</td>\n",
       "      <td>...</td>\n",
       "      <td>...</td>\n",
       "    </tr>\n",
       "    <tr>\n",
       "      <th>413</th>\n",
       "      <td>0.873482</td>\n",
       "      <td>-0.755929</td>\n",
       "      <td>-0.204852</td>\n",
       "      <td>-0.499470</td>\n",
       "      <td>-0.400248</td>\n",
       "      <td>-0.493455</td>\n",
       "      <td>-0.568142</td>\n",
       "      <td>-0.351647</td>\n",
       "      <td>0.740370</td>\n",
       "    </tr>\n",
       "    <tr>\n",
       "      <th>414</th>\n",
       "      <td>-1.505120</td>\n",
       "      <td>1.322876</td>\n",
       "      <td>0.740881</td>\n",
       "      <td>-0.499470</td>\n",
       "      <td>-0.400248</td>\n",
       "      <td>1.314435</td>\n",
       "      <td>1.760125</td>\n",
       "      <td>-0.351647</td>\n",
       "      <td>-1.350676</td>\n",
       "    </tr>\n",
       "    <tr>\n",
       "      <th>415</th>\n",
       "      <td>0.873482</td>\n",
       "      <td>-0.755929</td>\n",
       "      <td>0.701476</td>\n",
       "      <td>-0.499470</td>\n",
       "      <td>-0.400248</td>\n",
       "      <td>-0.507796</td>\n",
       "      <td>-0.568142</td>\n",
       "      <td>-0.351647</td>\n",
       "      <td>0.740370</td>\n",
       "    </tr>\n",
       "    <tr>\n",
       "      <th>416</th>\n",
       "      <td>0.873482</td>\n",
       "      <td>-0.755929</td>\n",
       "      <td>-0.204852</td>\n",
       "      <td>-0.499470</td>\n",
       "      <td>-0.400248</td>\n",
       "      <td>-0.493455</td>\n",
       "      <td>-0.568142</td>\n",
       "      <td>-0.351647</td>\n",
       "      <td>0.740370</td>\n",
       "    </tr>\n",
       "    <tr>\n",
       "      <th>417</th>\n",
       "      <td>0.873482</td>\n",
       "      <td>-0.755929</td>\n",
       "      <td>-0.204852</td>\n",
       "      <td>0.616992</td>\n",
       "      <td>0.619896</td>\n",
       "      <td>-0.236957</td>\n",
       "      <td>1.760125</td>\n",
       "      <td>-0.351647</td>\n",
       "      <td>-1.350676</td>\n",
       "    </tr>\n",
       "  </tbody>\n",
       "</table>\n",
       "<p>418 rows × 9 columns</p>\n",
       "</div>"
      ],
      "text/plain": [
       "       Pclass       Sex       Age     SibSp     Parch      Fare  Embarked_C  \\\n",
       "0    0.873482 -0.755929  0.386231 -0.499470 -0.400248 -0.497413   -0.568142   \n",
       "1    0.873482  1.322876  1.371370  0.616992 -0.400248 -0.512278   -0.568142   \n",
       "2   -0.315819 -0.755929  2.553537 -0.499470 -0.400248 -0.464100   -0.568142   \n",
       "3    0.873482 -0.755929 -0.204852 -0.499470 -0.400248 -0.482475   -0.568142   \n",
       "4    0.873482  1.322876 -0.598908  0.616992  0.619896 -0.417492   -0.568142   \n",
       "..        ...       ...       ...       ...       ...       ...         ...   \n",
       "413  0.873482 -0.755929 -0.204852 -0.499470 -0.400248 -0.493455   -0.568142   \n",
       "414 -1.505120  1.322876  0.740881 -0.499470 -0.400248  1.314435    1.760125   \n",
       "415  0.873482 -0.755929  0.701476 -0.499470 -0.400248 -0.507796   -0.568142   \n",
       "416  0.873482 -0.755929 -0.204852 -0.499470 -0.400248 -0.493455   -0.568142   \n",
       "417  0.873482 -0.755929 -0.204852  0.616992  0.619896 -0.236957    1.760125   \n",
       "\n",
       "     Embarked_Q  Embarked_S  \n",
       "0      2.843757   -1.350676  \n",
       "1     -0.351647    0.740370  \n",
       "2      2.843757   -1.350676  \n",
       "3     -0.351647    0.740370  \n",
       "4     -0.351647    0.740370  \n",
       "..          ...         ...  \n",
       "413   -0.351647    0.740370  \n",
       "414   -0.351647   -1.350676  \n",
       "415   -0.351647    0.740370  \n",
       "416   -0.351647    0.740370  \n",
       "417   -0.351647   -1.350676  \n",
       "\n",
       "[418 rows x 9 columns]"
      ]
     },
     "execution_count": 45,
     "metadata": {},
     "output_type": "execute_result"
    }
   ],
   "source": [
    "#scaling test data\n",
    "scale = StandardScaler() #Instance creation\n",
    "\n",
    "scale.fit(df_test) ## it will compute mean and standard deviation of every column\n",
    "\n",
    "scaled_df = scale.transform(df_test) ### apply the formula (x-mean)/s.d\n",
    "# we can also fit and transform at a time using fit_transform method\n",
    "\n",
    "scaled_df_test = pd.DataFrame(data=scaled_df,columns=col_names)\n",
    "scaled_df_test"
   ]
  },
  {
   "cell_type": "markdown",
   "id": "33de55f0",
   "metadata": {
    "papermill": {
     "duration": 0.021759,
     "end_time": "2022-10-07T18:11:26.165096",
     "exception": false,
     "start_time": "2022-10-07T18:11:26.143337",
     "status": "completed"
    },
    "tags": []
   },
   "source": [
    "# Data Modelling"
   ]
  },
  {
   "cell_type": "code",
   "execution_count": 46,
   "id": "e9965b87",
   "metadata": {
    "execution": {
     "iopub.execute_input": "2022-10-07T18:11:26.209407Z",
     "iopub.status.busy": "2022-10-07T18:11:26.208997Z",
     "iopub.status.idle": "2022-10-07T18:11:26.219961Z",
     "shell.execute_reply": "2022-10-07T18:11:26.218440Z"
    },
    "papermill": {
     "duration": 0.036008,
     "end_time": "2022-10-07T18:11:26.222897",
     "exception": false,
     "start_time": "2022-10-07T18:11:26.186889",
     "status": "completed"
    },
    "tags": []
   },
   "outputs": [
    {
     "data": {
      "text/plain": [
       "0    549\n",
       "1    340\n",
       "Name: Survived, dtype: int64"
      ]
     },
     "execution_count": 46,
     "metadata": {},
     "output_type": "execute_result"
    }
   ],
   "source": [
    "df_train_target.value_counts()"
   ]
  },
  {
   "cell_type": "code",
   "execution_count": 47,
   "id": "339b0c9d",
   "metadata": {
    "execution": {
     "iopub.execute_input": "2022-10-07T18:11:26.268090Z",
     "iopub.status.busy": "2022-10-07T18:11:26.267642Z",
     "iopub.status.idle": "2022-10-07T18:11:26.274881Z",
     "shell.execute_reply": "2022-10-07T18:11:26.273918Z"
    },
    "papermill": {
     "duration": 0.032639,
     "end_time": "2022-10-07T18:11:26.276925",
     "exception": false,
     "start_time": "2022-10-07T18:11:26.244286",
     "status": "completed"
    },
    "tags": []
   },
   "outputs": [
    {
     "data": {
      "text/plain": [
       "((889, 9), (889,))"
      ]
     },
     "execution_count": 47,
     "metadata": {},
     "output_type": "execute_result"
    }
   ],
   "source": [
    "scaled_df_train_features.shape , df_train_target.shape"
   ]
  },
  {
   "cell_type": "code",
   "execution_count": 48,
   "id": "7012cbd7",
   "metadata": {
    "execution": {
     "iopub.execute_input": "2022-10-07T18:11:26.324597Z",
     "iopub.status.busy": "2022-10-07T18:11:26.322574Z",
     "iopub.status.idle": "2022-10-07T18:11:26.863971Z",
     "shell.execute_reply": "2022-10-07T18:11:26.862546Z"
    },
    "papermill": {
     "duration": 0.566801,
     "end_time": "2022-10-07T18:11:26.866742",
     "exception": false,
     "start_time": "2022-10-07T18:11:26.299941",
     "status": "completed"
    },
    "tags": []
   },
   "outputs": [
    {
     "data": {
      "text/plain": [
       "RandomForestClassifier()"
      ]
     },
     "execution_count": 48,
     "metadata": {},
     "output_type": "execute_result"
    }
   ],
   "source": [
    "from sklearn.ensemble import RandomForestClassifier\n",
    "\n",
    "rfc = RandomForestClassifier()\n",
    "rfc.fit(scaled_df_train_features,df_train_target)"
   ]
  },
  {
   "cell_type": "code",
   "execution_count": 49,
   "id": "1ad5c9f0",
   "metadata": {
    "execution": {
     "iopub.execute_input": "2022-10-07T18:11:26.913762Z",
     "iopub.status.busy": "2022-10-07T18:11:26.912488Z",
     "iopub.status.idle": "2022-10-07T18:11:26.953482Z",
     "shell.execute_reply": "2022-10-07T18:11:26.952268Z"
    },
    "papermill": {
     "duration": 0.066837,
     "end_time": "2022-10-07T18:11:26.956626",
     "exception": false,
     "start_time": "2022-10-07T18:11:26.889789",
     "status": "completed"
    },
    "tags": []
   },
   "outputs": [
    {
     "data": {
      "text/plain": [
       "array([0, 1, 1, 1, 0, 0, 0, 0, 1, 1])"
      ]
     },
     "execution_count": 49,
     "metadata": {},
     "output_type": "execute_result"
    }
   ],
   "source": [
    "train_pred = rfc.predict(scaled_df_train_features)\n",
    "train_pred[:10]"
   ]
  },
  {
   "cell_type": "code",
   "execution_count": 50,
   "id": "c388267a",
   "metadata": {
    "execution": {
     "iopub.execute_input": "2022-10-07T18:11:27.004956Z",
     "iopub.status.busy": "2022-10-07T18:11:27.004540Z",
     "iopub.status.idle": "2022-10-07T18:11:27.023260Z",
     "shell.execute_reply": "2022-10-07T18:11:27.021653Z"
    },
    "papermill": {
     "duration": 0.045923,
     "end_time": "2022-10-07T18:11:27.026210",
     "exception": false,
     "start_time": "2022-10-07T18:11:26.980287",
     "status": "completed"
    },
    "tags": []
   },
   "outputs": [
    {
     "name": "stdout",
     "output_type": "stream",
     "text": [
      "ConfusionMatrix of training data:\n",
      " [[542  11]\n",
      " [  7 329]]\n",
      "\n",
      "Accuracy of training data:\n",
      " 0.9797525309336333\n",
      "\n",
      "Classification Report of traing data:\n",
      "               precision    recall  f1-score   support\n",
      "\n",
      "           0       0.99      0.98      0.98       553\n",
      "           1       0.97      0.98      0.97       336\n",
      "\n",
      "    accuracy                           0.98       889\n",
      "   macro avg       0.98      0.98      0.98       889\n",
      "weighted avg       0.98      0.98      0.98       889\n",
      "\n"
     ]
    }
   ],
   "source": [
    "#Checking the training accuracy\n",
    "from sklearn.metrics import classification_report,confusion_matrix,accuracy_score\n",
    "\n",
    "res_train = confusion_matrix(train_pred,df_train_target)\n",
    "print('ConfusionMatrix of training data:\\n',res_train)\n",
    "print('\\nAccuracy of training data:\\n',accuracy_score(train_pred,df_train_target))\n",
    "print('\\nClassification Report of traing data:\\n',classification_report(train_pred,df_train_target))"
   ]
  },
  {
   "cell_type": "code",
   "execution_count": 51,
   "id": "b95744bc",
   "metadata": {
    "execution": {
     "iopub.execute_input": "2022-10-07T18:11:27.071678Z",
     "iopub.status.busy": "2022-10-07T18:11:27.070737Z",
     "iopub.status.idle": "2022-10-07T18:11:27.101233Z",
     "shell.execute_reply": "2022-10-07T18:11:27.099893Z"
    },
    "papermill": {
     "duration": 0.056119,
     "end_time": "2022-10-07T18:11:27.104005",
     "exception": false,
     "start_time": "2022-10-07T18:11:27.047886",
     "status": "completed"
    },
    "tags": []
   },
   "outputs": [
    {
     "data": {
      "text/plain": [
       "array([0, 0, 0, 0, 1, 0, 0, 0, 1, 0, 0, 0, 1, 0, 1, 1, 0, 0, 0, 0, 1, 1,\n",
       "       1, 1, 1, 0, 1, 0, 1, 0, 0, 0, 0, 0, 0, 0, 0, 0, 0, 1, 0, 0, 0, 1,\n",
       "       1, 0, 0, 0, 1, 1, 0, 0, 1, 1, 0, 0, 0, 0, 0, 1, 0, 0, 0, 0, 0, 1,\n",
       "       1, 0, 0, 1, 0, 0, 0, 0, 1, 0, 0, 1, 0, 0, 1, 0, 0, 0, 0, 0, 0, 0,\n",
       "       0, 1, 0, 0, 1, 0, 0, 0, 1, 0, 0, 0, 1, 0, 0, 0, 1, 0, 0, 0, 0, 0,\n",
       "       0, 0, 1, 0, 1, 0, 0, 1, 0, 1, 1, 0, 1, 0, 0, 1, 0, 1, 0, 0, 0, 0,\n",
       "       0, 0, 0, 0, 0, 0, 0, 0, 0, 1, 0, 0, 0, 0, 0, 0, 0, 0, 1, 0, 0, 1,\n",
       "       0, 0, 1, 0, 0, 1, 0, 1, 1, 1, 0, 1, 0, 0, 1, 0, 0, 0, 0, 0, 0, 1,\n",
       "       1, 1, 1, 1, 0, 1, 1, 0, 1, 0, 1, 0, 0, 0, 0, 0, 1, 0, 1, 0, 1, 0,\n",
       "       0, 0, 1, 1, 0, 1, 0, 0, 0, 0, 1, 0, 0, 1, 0, 1, 0, 0, 0, 0, 1, 0,\n",
       "       1, 0, 1, 0, 1, 0, 0, 0, 0, 0, 0, 1, 0, 0, 1, 0, 0, 0, 1, 1, 1, 1,\n",
       "       0, 0, 0, 0, 1, 0, 1, 0, 1, 0, 0, 0, 0, 0, 0, 0, 1, 0, 0, 0, 1, 1,\n",
       "       1, 0, 0, 0, 0, 0, 0, 0, 1, 1, 0, 1, 0, 0, 0, 0, 0, 1, 0, 0, 1, 0,\n",
       "       1, 0, 0, 0, 1, 0, 0, 0, 0, 0, 1, 0, 0, 0, 0, 0, 0, 0, 0, 1, 1, 1,\n",
       "       0, 0, 0, 0, 0, 0, 1, 1, 0, 0, 0, 0, 0, 0, 0, 0, 1, 0, 1, 0, 0, 0,\n",
       "       1, 0, 0, 0, 0, 0, 0, 0, 0, 0, 0, 0, 0, 1, 0, 0, 0, 0, 0, 1, 1, 0,\n",
       "       0, 0, 1, 0, 1, 0, 0, 1, 0, 1, 1, 0, 1, 0, 0, 0, 1, 0, 0, 1, 0, 0,\n",
       "       1, 1, 0, 0, 0, 0, 0, 0, 1, 0, 0, 1, 0, 0, 0, 0, 0, 1, 0, 0, 0, 1,\n",
       "       0, 1, 0, 0, 1, 0, 1, 0, 0, 0, 0, 0, 0, 1, 0, 1, 0, 0, 1, 0, 0, 1])"
      ]
     },
     "execution_count": 51,
     "metadata": {},
     "output_type": "execute_result"
    }
   ],
   "source": [
    "test_pred = rfc.predict(scaled_df_test)\n",
    "test_pred"
   ]
  },
  {
   "cell_type": "code",
   "execution_count": 52,
   "id": "71dd2d7e",
   "metadata": {
    "execution": {
     "iopub.execute_input": "2022-10-07T18:11:27.148981Z",
     "iopub.status.busy": "2022-10-07T18:11:27.148551Z",
     "iopub.status.idle": "2022-10-07T18:11:27.156474Z",
     "shell.execute_reply": "2022-10-07T18:11:27.155272Z"
    },
    "papermill": {
     "duration": 0.033099,
     "end_time": "2022-10-07T18:11:27.158747",
     "exception": false,
     "start_time": "2022-10-07T18:11:27.125648",
     "status": "completed"
    },
    "tags": []
   },
   "outputs": [
    {
     "data": {
      "text/plain": [
       "(418,)"
      ]
     },
     "execution_count": 52,
     "metadata": {},
     "output_type": "execute_result"
    }
   ],
   "source": [
    "test_pred.shape"
   ]
  },
  {
   "cell_type": "code",
   "execution_count": 53,
   "id": "679a80e3",
   "metadata": {
    "execution": {
     "iopub.execute_input": "2022-10-07T18:11:27.206414Z",
     "iopub.status.busy": "2022-10-07T18:11:27.206008Z",
     "iopub.status.idle": "2022-10-07T18:11:27.214122Z",
     "shell.execute_reply": "2022-10-07T18:11:27.212863Z"
    },
    "papermill": {
     "duration": 0.033887,
     "end_time": "2022-10-07T18:11:27.216463",
     "exception": false,
     "start_time": "2022-10-07T18:11:27.182576",
     "status": "completed"
    },
    "tags": []
   },
   "outputs": [
    {
     "data": {
      "text/plain": [
       "(418,)"
      ]
     },
     "execution_count": 53,
     "metadata": {},
     "output_type": "execute_result"
    }
   ],
   "source": [
    "final_sub.shape"
   ]
  },
  {
   "cell_type": "code",
   "execution_count": 54,
   "id": "66ef42ea",
   "metadata": {
    "execution": {
     "iopub.execute_input": "2022-10-07T18:11:27.262991Z",
     "iopub.status.busy": "2022-10-07T18:11:27.262201Z",
     "iopub.status.idle": "2022-10-07T18:11:27.268968Z",
     "shell.execute_reply": "2022-10-07T18:11:27.267716Z"
    },
    "papermill": {
     "duration": 0.033613,
     "end_time": "2022-10-07T18:11:27.271648",
     "exception": false,
     "start_time": "2022-10-07T18:11:27.238035",
     "status": "completed"
    },
    "tags": []
   },
   "outputs": [
    {
     "data": {
      "text/plain": [
       "numpy.ndarray"
      ]
     },
     "execution_count": 54,
     "metadata": {},
     "output_type": "execute_result"
    }
   ],
   "source": [
    "type(test_pred)"
   ]
  },
  {
   "cell_type": "code",
   "execution_count": 55,
   "id": "8794657d",
   "metadata": {
    "execution": {
     "iopub.execute_input": "2022-10-07T18:11:27.318720Z",
     "iopub.status.busy": "2022-10-07T18:11:27.318231Z",
     "iopub.status.idle": "2022-10-07T18:11:27.325364Z",
     "shell.execute_reply": "2022-10-07T18:11:27.324383Z"
    },
    "papermill": {
     "duration": 0.03275,
     "end_time": "2022-10-07T18:11:27.327651",
     "exception": false,
     "start_time": "2022-10-07T18:11:27.294901",
     "status": "completed"
    },
    "tags": []
   },
   "outputs": [
    {
     "data": {
      "text/plain": [
       "pandas.core.series.Series"
      ]
     },
     "execution_count": 55,
     "metadata": {},
     "output_type": "execute_result"
    }
   ],
   "source": [
    "type(final_sub)"
   ]
  },
  {
   "cell_type": "code",
   "execution_count": 56,
   "id": "e03cbdf0",
   "metadata": {
    "execution": {
     "iopub.execute_input": "2022-10-07T18:11:27.375228Z",
     "iopub.status.busy": "2022-10-07T18:11:27.374650Z",
     "iopub.status.idle": "2022-10-07T18:11:27.382608Z",
     "shell.execute_reply": "2022-10-07T18:11:27.381408Z"
    },
    "papermill": {
     "duration": 0.035864,
     "end_time": "2022-10-07T18:11:27.385860",
     "exception": false,
     "start_time": "2022-10-07T18:11:27.349996",
     "status": "completed"
    },
    "tags": []
   },
   "outputs": [],
   "source": [
    "test = pd.DataFrame(test_pred)\n",
    "final = pd.concat([final_sub,test],axis=1)"
   ]
  },
  {
   "cell_type": "code",
   "execution_count": 57,
   "id": "d6a9380f",
   "metadata": {
    "execution": {
     "iopub.execute_input": "2022-10-07T18:11:27.434889Z",
     "iopub.status.busy": "2022-10-07T18:11:27.433967Z",
     "iopub.status.idle": "2022-10-07T18:11:27.441859Z",
     "shell.execute_reply": "2022-10-07T18:11:27.439768Z"
    },
    "papermill": {
     "duration": 0.035713,
     "end_time": "2022-10-07T18:11:27.444762",
     "exception": false,
     "start_time": "2022-10-07T18:11:27.409049",
     "status": "completed"
    },
    "tags": []
   },
   "outputs": [],
   "source": [
    "final.rename(columns = {0:'Survived'},inplace=True)"
   ]
  },
  {
   "cell_type": "code",
   "execution_count": 58,
   "id": "997fd97e",
   "metadata": {
    "execution": {
     "iopub.execute_input": "2022-10-07T18:11:27.494103Z",
     "iopub.status.busy": "2022-10-07T18:11:27.493547Z",
     "iopub.status.idle": "2022-10-07T18:11:27.509643Z",
     "shell.execute_reply": "2022-10-07T18:11:27.508644Z"
    },
    "papermill": {
     "duration": 0.043258,
     "end_time": "2022-10-07T18:11:27.512942",
     "exception": false,
     "start_time": "2022-10-07T18:11:27.469684",
     "status": "completed"
    },
    "tags": []
   },
   "outputs": [
    {
     "data": {
      "text/html": [
       "<div>\n",
       "<style scoped>\n",
       "    .dataframe tbody tr th:only-of-type {\n",
       "        vertical-align: middle;\n",
       "    }\n",
       "\n",
       "    .dataframe tbody tr th {\n",
       "        vertical-align: top;\n",
       "    }\n",
       "\n",
       "    .dataframe thead th {\n",
       "        text-align: right;\n",
       "    }\n",
       "</style>\n",
       "<table border=\"1\" class=\"dataframe\">\n",
       "  <thead>\n",
       "    <tr style=\"text-align: right;\">\n",
       "      <th></th>\n",
       "      <th>PassengerId</th>\n",
       "      <th>Survived</th>\n",
       "    </tr>\n",
       "  </thead>\n",
       "  <tbody>\n",
       "    <tr>\n",
       "      <th>0</th>\n",
       "      <td>892</td>\n",
       "      <td>0</td>\n",
       "    </tr>\n",
       "    <tr>\n",
       "      <th>1</th>\n",
       "      <td>893</td>\n",
       "      <td>0</td>\n",
       "    </tr>\n",
       "    <tr>\n",
       "      <th>2</th>\n",
       "      <td>894</td>\n",
       "      <td>0</td>\n",
       "    </tr>\n",
       "    <tr>\n",
       "      <th>3</th>\n",
       "      <td>895</td>\n",
       "      <td>0</td>\n",
       "    </tr>\n",
       "    <tr>\n",
       "      <th>4</th>\n",
       "      <td>896</td>\n",
       "      <td>1</td>\n",
       "    </tr>\n",
       "    <tr>\n",
       "      <th>...</th>\n",
       "      <td>...</td>\n",
       "      <td>...</td>\n",
       "    </tr>\n",
       "    <tr>\n",
       "      <th>413</th>\n",
       "      <td>1305</td>\n",
       "      <td>0</td>\n",
       "    </tr>\n",
       "    <tr>\n",
       "      <th>414</th>\n",
       "      <td>1306</td>\n",
       "      <td>1</td>\n",
       "    </tr>\n",
       "    <tr>\n",
       "      <th>415</th>\n",
       "      <td>1307</td>\n",
       "      <td>0</td>\n",
       "    </tr>\n",
       "    <tr>\n",
       "      <th>416</th>\n",
       "      <td>1308</td>\n",
       "      <td>0</td>\n",
       "    </tr>\n",
       "    <tr>\n",
       "      <th>417</th>\n",
       "      <td>1309</td>\n",
       "      <td>1</td>\n",
       "    </tr>\n",
       "  </tbody>\n",
       "</table>\n",
       "<p>418 rows × 2 columns</p>\n",
       "</div>"
      ],
      "text/plain": [
       "     PassengerId  Survived\n",
       "0            892         0\n",
       "1            893         0\n",
       "2            894         0\n",
       "3            895         0\n",
       "4            896         1\n",
       "..           ...       ...\n",
       "413         1305         0\n",
       "414         1306         1\n",
       "415         1307         0\n",
       "416         1308         0\n",
       "417         1309         1\n",
       "\n",
       "[418 rows x 2 columns]"
      ]
     },
     "execution_count": 58,
     "metadata": {},
     "output_type": "execute_result"
    }
   ],
   "source": [
    "final"
   ]
  },
  {
   "cell_type": "code",
   "execution_count": 59,
   "id": "62ff2425",
   "metadata": {
    "execution": {
     "iopub.execute_input": "2022-10-07T18:11:27.561220Z",
     "iopub.status.busy": "2022-10-07T18:11:27.560227Z",
     "iopub.status.idle": "2022-10-07T18:11:27.570463Z",
     "shell.execute_reply": "2022-10-07T18:11:27.569203Z"
    },
    "papermill": {
     "duration": 0.037458,
     "end_time": "2022-10-07T18:11:27.573502",
     "exception": false,
     "start_time": "2022-10-07T18:11:27.536044",
     "status": "completed"
    },
    "tags": []
   },
   "outputs": [],
   "source": [
    "final.to_csv('E:\\Titanic_submission.csv',index=False)"
   ]
  },
  {
   "cell_type": "code",
   "execution_count": null,
   "id": "c451a76e",
   "metadata": {
    "papermill": {
     "duration": 0.02171,
     "end_time": "2022-10-07T18:11:27.617303",
     "exception": false,
     "start_time": "2022-10-07T18:11:27.595593",
     "status": "completed"
    },
    "tags": []
   },
   "outputs": [],
   "source": []
  }
 ],
 "metadata": {
  "kernelspec": {
   "display_name": "Python 3",
   "language": "python",
   "name": "python3"
  },
  "language_info": {
   "codemirror_mode": {
    "name": "ipython",
    "version": 3
   },
   "file_extension": ".py",
   "mimetype": "text/x-python",
   "name": "python",
   "nbconvert_exporter": "python",
   "pygments_lexer": "ipython3",
   "version": "3.7.12"
  },
  "papermill": {
   "default_parameters": {},
   "duration": 18.210577,
   "end_time": "2022-10-07T18:11:28.464660",
   "environment_variables": {},
   "exception": null,
   "input_path": "__notebook__.ipynb",
   "output_path": "__notebook__.ipynb",
   "parameters": {},
   "start_time": "2022-10-07T18:11:10.254083",
   "version": "2.3.4"
  }
 },
 "nbformat": 4,
 "nbformat_minor": 5
}
